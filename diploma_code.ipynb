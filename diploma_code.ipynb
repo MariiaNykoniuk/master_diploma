{
  "nbformat": 4,
  "nbformat_minor": 0,
  "metadata": {
    "colab": {
      "provenance": [],
      "gpuType": "T4",
      "toc_visible": true
    },
    "kernelspec": {
      "name": "python3",
      "display_name": "Python 3"
    },
    "language_info": {
      "name": "python"
    },
    "accelerator": "GPU"
  },
  "cells": [
    {
      "cell_type": "markdown",
      "source": [
        "## Імпорт бібліотек"
      ],
      "metadata": {
        "id": "VI2IQafoDe2E"
      }
    },
    {
      "cell_type": "code",
      "source": [
        "!pip install nlpaug"
      ],
      "metadata": {
        "id": "PxWwxxhX7n5f"
      },
      "execution_count": null,
      "outputs": []
    },
    {
      "cell_type": "code",
      "source": [
        "!pip install pydub"
      ],
      "metadata": {
        "id": "3dONYBnwAb1v"
      },
      "execution_count": null,
      "outputs": []
    },
    {
      "cell_type": "code",
      "execution_count": null,
      "metadata": {
        "id": "QwnJJJDT2EYQ"
      },
      "outputs": [],
      "source": [
        "from google.colab import drive\n",
        "import numpy as np\n",
        "import pandas as pd\n",
        "import re\n",
        "import os\n",
        "from pydub import AudioSegment\n",
        "from sklearn.model_selection import train_test_split\n",
        "import nlpaug.augmenter.word as naw\n",
        "import librosa\n",
        "import soundfile as sf\n",
        "import math\n",
        "import noisereduce as nr\n",
        "from scipy.io import wavfile\n",
        "import ast\n",
        "from sklearn.preprocessing import StandardScaler\n",
        "import matplotlib.pyplot as plt\n",
        "import seaborn as sns\n",
        "from matplotlib.pyplot import xticks\n",
        "from nltk.corpus import stopwords\n",
        "import nltk\n",
        "import string\n",
        "from nltk.tokenize import word_tokenize\n",
        "from sklearn.metrics import accuracy_score, classification_report, confusion_matrix\n",
        "from sklearn.feature_extraction.text import TfidfVectorizer\n",
        "from numpy.linalg import norm\n",
        "from tensorflow.keras.layers import MultiHeadAttention, LayerNormalization, Dropout, Input, Concatenate, Dense, Reshape, Conv1D, BatchNormalization, Bidirectional,\n",
        "    LSTM, GlobalAveragePooling1D\n",
        "from tensorflow.keras.models import Model\n",
        "from tensorflow.keras.optimizers import Adam"
      ]
    },
    {
      "cell_type": "code",
      "source": [
        "drive.mount('/content/drive')"
      ],
      "metadata": {
        "colab": {
          "base_uri": "https://localhost:8080/"
        },
        "id": "HB-FGZ5z3M5A",
        "outputId": "f9af83db-8598-4c1a-c7cb-9d9ed4f95bd0"
      },
      "execution_count": null,
      "outputs": [
        {
          "output_type": "stream",
          "name": "stdout",
          "text": [
            "Mounted at /content/drive\n"
          ]
        }
      ]
    },
    {
      "cell_type": "markdown",
      "source": [
        "## Попередня обробка"
      ],
      "metadata": {
        "id": "XjWzcUBAJkBX"
      }
    },
    {
      "cell_type": "markdown",
      "source": [
        "### Виокремлення реплік учасників"
      ],
      "metadata": {
        "id": "zRiitXNP_rKT"
      }
    },
    {
      "cell_type": "markdown",
      "source": [
        "Фільтрація реплік учасників для записів з розширеного набору даних EDAIC-WoZ здійснюється вручну напочатку. Для записів з основного набору даних DAIC-WoZ (participant_id < 600) фільтруються репліки, позначені в транскриптах як ті, що належать учаснику. Текст реплік об'єднується, аудіо реплік об'єднується на основі часових позначок відповідної репліки."
      ],
      "metadata": {
        "id": "Xap019XL5My5"
      }
    },
    {
      "cell_type": "code",
      "source": [
        "# Функція для зчитування даних та об'єднання тексту і аудіо для учасників зі списку\n",
        "def process_participant_data(base_dir, participants_file, output_dir):\n",
        "    # Зчитуємо файл зі списком номерів учасників\n",
        "    with open(participants_file, 'r') as f:\n",
        "        valid_participants = f.read().splitlines()  # Створюємо список номерів учасників\n",
        "\n",
        "    if not os.path.exists(output_dir):\n",
        "        os.makedirs(output_dir)\n",
        "\n",
        "    for root, dirs, files in os.walk(base_dir):\n",
        "        for file in files:\n",
        "            if file.endswith(\"_TRANSCRIPT.csv\"):\n",
        "                participant_id = file.split('_')[0]\n",
        "\n",
        "                if participant_id in valid_participants:\n",
        "                    transcript_path = os.path.join(root, file)\n",
        "\n",
        "                    audio_file = f\"{participant_id}_AUDIO.wav\"\n",
        "                    audio_path = os.path.join(root, audio_file)\n",
        "\n",
        "                    if os.path.exists(audio_path):\n",
        "                        print(f\"Обробляється учасник: {participant_id}\")\n",
        "                        if int(participant_id) < 600: # Записи з основного набору DAIC\n",
        "\n",
        "                            transcript_df = pd.read_csv(transcript_path, sep=\"\\t\")\n",
        "                            participant_replies = transcript_df[transcript_df['speaker'] == 'Participant']\n",
        "                            combined_replies = \" \".join(participant_replies['value'].astype(str).fillna(''))\n",
        "\n",
        "                            start_times = participant_replies['start_time'].tolist()\n",
        "                            stop_times = participant_replies['stop_time'].tolist()\n",
        "                        else: # Записи з додаткового набору EDAIC\n",
        "                            transcript_df = pd.read_csv(transcript_path)\n",
        "                            combined_replies = \" \".join(transcript_df['Text'])\n",
        "\n",
        "                            start_times = transcript_df['Start_Time'].tolist()\n",
        "                            stop_times = transcript_df['End_Time'].tolist()\n",
        "\n",
        "                        audio = AudioSegment.from_wav(audio_path)\n",
        "                        combined_audio = AudioSegment.empty()\n",
        "\n",
        "                        # Обрізаємо частини аудіо для кожної репліки та об'єднуємо в одне аудіо\n",
        "                        for start, stop in zip(start_times, stop_times):\n",
        "                            start_ms = start * 1000\n",
        "                            stop_ms = stop * 1000\n",
        "                            combined_audio += audio[start_ms:stop_ms]\n",
        "\n",
        "                        output_text_file = os.path.join(output_dir, f\"{participant_id}_combined_replies.txt\")\n",
        "                        output_audio_file = os.path.join(output_dir, f\"{participant_id}_combined_audio.wav\")\n",
        "\n",
        "                        with open(output_text_file, \"w\") as text_file:\n",
        "                            text_file.write(combined_replies)\n",
        "\n",
        "                        combined_audio.export(output_audio_file, format=\"wav\")\n",
        "\n",
        "                        print(f\"Збережено для учасника {participant_id}: текст та аудіо\")\n",
        "                    else:\n",
        "                        print(f\"Відсутнє аудіо для учасника {participant_id}\")\n",
        "                else:\n",
        "                    print(f\"Учасник {participant_id} не включений у список\")"
      ],
      "metadata": {
        "id": "k3lSRfbUFZ_n"
      },
      "execution_count": null,
      "outputs": []
    },
    {
      "cell_type": "code",
      "source": [
        "base_dir = \"/content/drive/MyDrive/diploma_data/data\"\n",
        "participants_file = \"valid_participants.txt\"  # Файл зі списком ID усіх учасників\n",
        "output_dir = \"/content/drive/MyDrive/diploma_data/participant_data\"  # Папка для збереження результатів\n",
        "process_participant_data(base_dir, participants_file, output_dir)\n"
      ],
      "metadata": {
        "id": "igt0WCs3PREb"
      },
      "execution_count": null,
      "outputs": []
    },
    {
      "cell_type": "markdown",
      "source": [
        "Здійснюється рівномірний розподіл даних (ID учасників) на тренувальну та тестову вибірки. Створюється датафрейм з інформацією про належність до вибірки та класу (наявність чи відсутність депресії)."
      ],
      "metadata": {
        "id": "kpqE5pwP7BCO"
      }
    },
    {
      "cell_type": "code",
      "source": [
        "# Зчитуємо текстовий файл з ID пацієнтів\n",
        "with open('/content/valid_participants.txt', 'r') as file:\n",
        "    patient_ids = [int(line.strip()) for line in file]\n",
        "\n",
        "# Зчитуємо CSV файл з інформацією про класи\n",
        "labels_df = pd.read_csv('/content/drive/MyDrive/diploma_data/labels/new_detailed_lables.csv')  # CSV файл з колонками 'Patient_ID' і 'Depression_label'\n",
        "\n",
        "labels_df = labels_df[labels_df['Participant'].isin(patient_ids)]\n",
        "\n",
        "train_ids, test_ids = train_test_split(labels_df, test_size=0.2, stratify=labels_df['Depression_label'], random_state=42)\n",
        "\n",
        "train_participant_ids = train_ids['Participant'].tolist()\n",
        "test_participant_ids = test_ids['Participant'].tolist()\n",
        "\n",
        "print(f\"Кількість пацієнтів у тренувальній вибірці: {len(train_participant_ids)}\")\n",
        "print(f\"Кількість пацієнтів у тестовій вибірці: {len(test_participant_ids)}\")\n",
        "\n",
        "train_df = pd.DataFrame({'Patient_ID': train_participant_ids, 'Set': 'train'})\n",
        "test_df = pd.DataFrame({'Patient_ID': test_participant_ids, 'Set': 'test'})\n",
        "\n",
        "train_df['Depression_label'] = labels_df.set_index('Participant').loc[train_participant_ids, 'Depression_label'].values\n",
        "test_df['Depression_label'] = labels_df.set_index('Participant').loc[test_participant_ids, 'Depression_label'].values\n",
        "\n",
        "print(train_df.head())\n",
        "print(test_df.head())\n",
        "\n",
        "split_df = pd.concat([train_df, test_df])\n",
        "\n",
        "split_df.to_csv('participant_split.csv', index=False)\n",
        "\n",
        "print(\"Розподіл на тренувальну і тестову вибірки збережено у participant_split.csv\")"
      ],
      "metadata": {
        "colab": {
          "base_uri": "https://localhost:8080/"
        },
        "id": "hjbncCBthXd8",
        "outputId": "5b70bf40-729d-415f-9a0e-d8d4aa18dc62"
      },
      "execution_count": null,
      "outputs": [
        {
          "output_type": "stream",
          "name": "stdout",
          "text": [
            "Кількість пацієнтів у тренувальній вибірці: 171\n",
            "Кількість пацієнтів у тестовій вибірці: 43\n",
            "   Patient_ID    Set  Depression_label\n",
            "0         443  train                 0\n",
            "1         390  train                 0\n",
            "2         331  train                 0\n",
            "3         359  train                 1\n",
            "4         456  train                 0\n",
            "   Patient_ID   Set  Depression_label\n",
            "0         426  test                 1\n",
            "1         699  test                 1\n",
            "2         637  test                 1\n",
            "3         427  test                 0\n",
            "4         387  test                 0\n",
            "Розподіл на тренувальну і тестову вибірки збережено у participant_split.csv\n"
          ]
        }
      ]
    },
    {
      "cell_type": "markdown",
      "source": [
        "### Аугментація навчальних даних"
      ],
      "metadata": {
        "id": "bC01dW8s_4HK"
      }
    },
    {
      "cell_type": "markdown",
      "source": [
        "Аугментація навчальних даних (з класом наявності депресії). Текст обробляється частинами по 100 слів, ймовірність заміни слів на синоніми складає 15%. Для аудіо даних змінюється тональність на 1.5 півтона"
      ],
      "metadata": {
        "id": "mlVqXFe384Dw"
      }
    },
    {
      "cell_type": "code",
      "source": [
        "# Функція для аугментації тексту (заміна на синоніми з виключенням важливих слів)\n",
        "def augment_text_in_chunks(text, chunk_size=100, aug_p=0.15):\n",
        "    words = text.split()\n",
        "    chunks = [words[i:i + chunk_size] for i in range(0, len(words), chunk_size)]\n",
        "\n",
        "    # Стоп-слова, які не будуть замінюватись\n",
        "    stopwords = ['i', 'me', 'my', 'you', 'not', 'never', 'don\\'t', 'doesn\\'t',\n",
        "                 'depression', 'depressed', 'anxiety', 'tired', 'sad', 'hopeless', 'lonely', 'mm', 'it']\n",
        "\n",
        "    aug = naw.SynonymAug(aug_src='wordnet', aug_p=aug_p, stopwords=stopwords)\n",
        "    augmented_chunks = []\n",
        "    for chunk in chunks:\n",
        "        augmented_chunk = aug.augment(' '.join(chunk))\n",
        "        if isinstance(augmented_chunk, list):\n",
        "            augmented_chunks.append(' '.join(augmented_chunk))\n",
        "        else:\n",
        "            augmented_chunks.append(augmented_chunk)\n",
        "    augmented_text = ' '.join(augmented_chunks)\n",
        "\n",
        "    return augmented_text\n",
        "\n",
        "# Функція для аугментації аудіо (зміна тону)\n",
        "def change_pitch_librosa(audio_path, output_path, n_steps=1.5):\n",
        "    y, sr = librosa.load(audio_path, sr=16000)\n",
        "    y_shifted = librosa.effects.pitch_shift(y=y, sr=sr, n_steps=n_steps)\n",
        "    sf.write(output_path, y_shifted, sr)\n",
        "\n",
        "# Функція для аугментації навчальних даних і збереження результатів в ту саму папку\n",
        "def augment_and_save_data(audio_dir, split_df, transcript_dir):\n",
        "    train_ids = split_df[split_df['Set'] == 'train']['Patient_ID'].tolist()\n",
        "\n",
        "    for root, dirs, files in os.walk(audio_dir):\n",
        "        for file in files:\n",
        "            if file.endswith(\"_combined_audio.wav\"):\n",
        "                participant_id = int(file.split('_')[0])\n",
        "\n",
        "                row = split_df[split_df['Patient_ID'] == participant_id]\n",
        "                if not row.empty:\n",
        "                    label = row['Depression_label'].values[0]\n",
        "\n",
        "                    if participant_id in train_ids and label == 1:\n",
        "                        print(f\"Аугментація пацієнта {participant_id}...\")\n",
        "\n",
        "                        # Аугментація тексту\n",
        "                        transcript_file = os.path.join(transcript_dir, f\"{participant_id}_combined_replies.txt\")\n",
        "                        if os.path.exists(transcript_file):\n",
        "                            with open(transcript_file, 'r') as f:\n",
        "                                text = f.read()\n",
        "                            augmented_text = augment_text(text)\n",
        "                            augmented_text_path = os.path.join(root, f\"{participant_id}_combined_replies_augmented.txt\")\n",
        "                            with open(augmented_text_path, \"w\") as f:\n",
        "                                f.write(augmented_text)\n",
        "\n",
        "                        # Аугментація аудіо\n",
        "                        audio_file = os.path.join(root, file)\n",
        "                        augmented_audio_path = os.path.join(root, f\"{participant_id}_combined_audio_augmented.wav\")\n",
        "                        change_pitch_librosa(audio_file, augmented_audio_path)\n",
        "\n",
        "                        print(f\"Пацієнт {participant_id}: аугментовані дані збережено у ту саму папку.\")\n"
      ],
      "metadata": {
        "id": "0KshpOMnmhnY"
      },
      "execution_count": null,
      "outputs": []
    },
    {
      "cell_type": "code",
      "source": [
        "audio_dir = \"/content/drive/MyDrive/diploma_data/participant_data\"\n",
        "transcript_dir = \"/content/drive/MyDrive/diploma_data/participant_data\"\n",
        "split_df = pd.read_csv(\"/content/participant_split.csv\")\n",
        "\n",
        "augment_and_save_data(audio_dir, split_df, transcript_dir)"
      ],
      "metadata": {
        "id": "CEQ-K0BT8zuS"
      },
      "execution_count": null,
      "outputs": []
    },
    {
      "cell_type": "markdown",
      "source": [
        "### Сегментація даних"
      ],
      "metadata": {
        "id": "FqXHSTeW_8Yg"
      }
    },
    {
      "cell_type": "markdown",
      "source": [
        "Текст та аудіо діляться на сегменти. З аудіо даних видаляються сторонні шуми, після чого записи діляться на сегменти тривалістю 1 хв. На основі кількості сегментів при поділі аудіо даних, текст ділиться на таку ж кількість сегментів за кількістю слів."
      ],
      "metadata": {
        "id": "UWSJ42er--3L"
      }
    },
    {
      "cell_type": "code",
      "source": [
        "# Функція для видалення шумів з аудіо\n",
        "def denoise_audio(audio_path):\n",
        "    rate, data = wavfile.read(audio_path)\n",
        "    reduced_noise = nr.reduce_noise(y=data, sr=rate)\n",
        "    temp_path = \"temp_denoised.wav\" # Збереження очищеного аудіо як тимчасовий файл\n",
        "    wavfile.write(temp_path, rate, reduced_noise)\n",
        "    return temp_path\n",
        "\n",
        "# Функція для поділу аудіо на сегменти з мінімальною тривалістю\n",
        "def split_audio_with_min_duration(audio_path, segment_length=10, min_duration=15):\n",
        "    denoised_path = denoise_audio(audio_path)\n",
        "    audio = AudioSegment.from_wav(denoised_path)\n",
        "    total_duration = len(audio) / 1000  # Тривалість у секундах\n",
        "    num_segments = math.ceil(total_duration / segment_length)  # Кількість сегментів\n",
        "    segments = []\n",
        "\n",
        "    for i in range(num_segments):\n",
        "        start = i * segment_length * 1000  # Конвертуємо в мілісекунди\n",
        "        end = min((i + 1) * segment_length * 1000, len(audio))\n",
        "        segment = audio[start:end]\n",
        "\n",
        "        # Якщо сегмент довший за мінімальний поріг, додаємо його\n",
        "        if len(segment) / 1000 >= min_duration:\n",
        "            segments.append(segment)\n",
        "\n",
        "    return segments\n",
        "\n",
        "# Функція для поділу тексту на сегменти\n",
        "def split_text_equal_parts(transcript_file, num_segments):\n",
        "    with open(transcript_file, 'r', encoding='utf-8') as f:\n",
        "        all_text = f.read().strip()\n",
        "\n",
        "    words = all_text.split()\n",
        "    words_per_segment = math.ceil(len(words) / num_segments)  # Кількість слів на сегмент\n",
        "\n",
        "    text_segments = []\n",
        "    for i in range(num_segments):\n",
        "        start = i * words_per_segment\n",
        "        end = min((i + 1) * words_per_segment, len(words))\n",
        "        segment = \" \".join(words[start:end])\n",
        "        text_segments.append(segment)\n",
        "\n",
        "    return text_segments\n",
        "\n",
        "# Функція для зчитування і поділу навчальних аудіо та тексту з додаванням ID учасника та класу\n",
        "def process_audio_text_segments(audio_dir, transcript_dir, split_df, segment_length=60, min_duration=20, set_mode):\n",
        "    data_segments = []\n",
        "\n",
        "    ids = split_df[split_df['Set'] == set_mode]['Patient_ID'].tolist()\n",
        "\n",
        "    for root, dirs, files in os.walk(audio_dir):\n",
        "        for file in files:\n",
        "            if file.endswith(\"_combined_audio.wav\") or file.endswith(\"_combined_audio_augmented.wav\"):\n",
        "                participant_id = int(file.split('_')[0])\n",
        "\n",
        "                if participant_id in ids:\n",
        "                    transcript_file = file.replace(\"_combined_audio.wav\", \"_combined_replies.txt\").replace(\"_combined_audio_augmented.wav\", \"_combined_replies_augmented.txt\")\n",
        "                    transcript_file = os.path.join(transcript_dir, transcript_file)\n",
        "\n",
        "                    # Поділ аудіо на сегменти\n",
        "                    audio_file = os.path.join(root, file)\n",
        "                    audio_segments = split_audio_with_min_duration(audio_file, segment_length=segment_length, min_duration=min_duration)\n",
        "\n",
        "                    # Поділ тексту на сегменти\n",
        "                    if os.path.exists(transcript_file):\n",
        "                        text_segments = split_text_equal_parts(transcript_file, len(audio_segments))\n",
        "\n",
        "                        # Додаємо інформацію про клас та учасника\n",
        "                        depression_label = split_df[split_df['Patient_ID'] == participant_id]['Depression_label'].values[0]\n",
        "\n",
        "                        for i in range(len(audio_segments)):\n",
        "                            data_segments.append({\n",
        "                                'Patient_ID': participant_id,\n",
        "                                'Segment_ID': i + 1,\n",
        "                                'Depression_label': depression_label,\n",
        "                                'Audio_Segment': audio_segments[i],\n",
        "                                'Text_Segment': text_segments[i]\n",
        "                            })\n",
        "\n",
        "    return pd.DataFrame(data_segments)\n"
      ],
      "metadata": {
        "id": "xeqPKRLTIZNA"
      },
      "execution_count": null,
      "outputs": []
    },
    {
      "cell_type": "code",
      "source": [
        "audio_dir = \"/content/drive/MyDrive/diploma_data/participant_data\"\n",
        "transcript_dir = \"/content/drive/MyDrive/diploma_data/participant_data\"\n",
        "split_df = pd.read_csv(\"/content/participant_split.csv\")\n",
        "\n",
        "segments_df = process_audio_text_segments(audio_dir, transcript_dir, split_df, segment_length=60, min_duration=30, 'train')\n",
        "segments_test_df = process_audio_text_segments(audio_dir, transcript_dir, split_df, segment_length=60, min_duration=30, 'test')"
      ],
      "metadata": {
        "id": "dAiHOU-mtHy9"
      },
      "execution_count": null,
      "outputs": []
    },
    {
      "cell_type": "code",
      "source": [
        "segment_counts = segments_df['Depression_label'].value_counts()\n",
        "\n",
        "segment_counts"
      ],
      "metadata": {
        "colab": {
          "base_uri": "https://localhost:8080/",
          "height": 178
        },
        "id": "7SQ-R6EBMhFk",
        "outputId": "2104268d-e858-46c9-8649-798b92bac38f"
      },
      "execution_count": null,
      "outputs": [
        {
          "output_type": "execute_result",
          "data": {
            "text/plain": [
              "Depression_label\n",
              "0    905\n",
              "1    730\n",
              "Name: count, dtype: int64"
            ],
            "text/html": [
              "<div>\n",
              "<style scoped>\n",
              "    .dataframe tbody tr th:only-of-type {\n",
              "        vertical-align: middle;\n",
              "    }\n",
              "\n",
              "    .dataframe tbody tr th {\n",
              "        vertical-align: top;\n",
              "    }\n",
              "\n",
              "    .dataframe thead th {\n",
              "        text-align: right;\n",
              "    }\n",
              "</style>\n",
              "<table border=\"1\" class=\"dataframe\">\n",
              "  <thead>\n",
              "    <tr style=\"text-align: right;\">\n",
              "      <th></th>\n",
              "      <th>count</th>\n",
              "    </tr>\n",
              "    <tr>\n",
              "      <th>Depression_label</th>\n",
              "      <th></th>\n",
              "    </tr>\n",
              "  </thead>\n",
              "  <tbody>\n",
              "    <tr>\n",
              "      <th>0</th>\n",
              "      <td>905</td>\n",
              "    </tr>\n",
              "    <tr>\n",
              "      <th>1</th>\n",
              "      <td>730</td>\n",
              "    </tr>\n",
              "  </tbody>\n",
              "</table>\n",
              "</div><br><label><b>dtype:</b> int64</label>"
            ]
          },
          "metadata": {},
          "execution_count": 7
        }
      ]
    },
    {
      "cell_type": "markdown",
      "source": [
        "### Збалансування класів"
      ],
      "metadata": {
        "id": "lBMnjSOsABjN"
      }
    },
    {
      "cell_type": "markdown",
      "source": [
        "Збалансування класів шляхом випадкового вибору сегментів для класу 0 у кількості, рівній кількості класу 1"
      ],
      "metadata": {
        "id": "VT8yN9twCkrW"
      }
    },
    {
      "cell_type": "code",
      "source": [
        "class_1_segments = segments_df[segments_df['Depression_label'] == 1]\n",
        "\n",
        "# Вибираємо рандомні сегменти для класу 0 у кількості, рівній кількості класу 1\n",
        "class_0_segments = segments_df[segments_df['Depression_label'] == 0].sample(n=len(class_1_segments), random_state=42)\n",
        "\n",
        "balanced_df = pd.concat([class_1_segments, class_0_segments])\n",
        "\n",
        "# Перемішуємо об'єднані сегменти, щоб уникнути впливу порядку\n",
        "balanced_df = balanced_df.sample(frac=1, random_state=42).reset_index(drop=True)\n",
        "\n",
        "print(balanced_df['Depression_label'].value_counts())"
      ],
      "metadata": {
        "colab": {
          "base_uri": "https://localhost:8080/"
        },
        "id": "UBJHPXt9NNbN",
        "outputId": "53bb922f-fe45-486b-d676-1cdc1bd27e39"
      },
      "execution_count": null,
      "outputs": [
        {
          "output_type": "stream",
          "name": "stdout",
          "text": [
            "Depression_label\n",
            "0    730\n",
            "1    730\n",
            "Name: count, dtype: int64\n"
          ]
        }
      ]
    },
    {
      "cell_type": "code",
      "source": [
        "balanced_df"
      ],
      "metadata": {
        "colab": {
          "base_uri": "https://localhost:8080/",
          "height": 1000
        },
        "id": "eGV2v9afOZnj",
        "outputId": "47b205a0-33e5-44e7-ad80-c6455a79941b"
      },
      "execution_count": null,
      "outputs": [
        {
          "output_type": "execute_result",
          "data": {
            "text/plain": [
              "     Patient_ID  Segment_ID  Depression_label  \\\n",
              "0           374           6                 0   \n",
              "1           414           4                 1   \n",
              "2           345           3                 1   \n",
              "3           311           2                 1   \n",
              "4           491           5                 0   \n",
              "..          ...         ...               ...   \n",
              "725         636           9                 1   \n",
              "726         600           2                 1   \n",
              "727         350           4                 1   \n",
              "728         434          10                 0   \n",
              "729         617           7                 1   \n",
              "\n",
              "                                         Audio_Segment  \\\n",
              "0    (((<pydub.audio_segment.AudioSegment object at...   \n",
              "1    (((<pydub.audio_segment.AudioSegment object at...   \n",
              "2    (((<pydub.audio_segment.AudioSegment object at...   \n",
              "3    (((<pydub.audio_segment.AudioSegment object at...   \n",
              "4    (((<pydub.audio_segment.AudioSegment object at...   \n",
              "..                                                 ...   \n",
              "725  (((<pydub.audio_segment.AudioSegment object at...   \n",
              "726  (((<pydub.audio_segment.AudioSegment object at...   \n",
              "727  (((<pydub.audio_segment.AudioSegment object at...   \n",
              "728  (((<pydub.audio_segment.AudioSegment object at...   \n",
              "729  (((<pydub.audio_segment.AudioSegment object at...   \n",
              "\n",
              "                                          Text_Segment  \n",
              "0    get me very angry it doesn't happen very often...  \n",
              "1    and just would've stopped there and not have l...  \n",
              "2    my mom and sister yesterday it was just someth...  \n",
              "3    now i live in an apartment uh i don't i don't ...  \n",
              "4    to do what was right according to what god wou...  \n",
              "..                                                 ...  \n",
              "725  these threats in the e-mails back like oh yeah...  \n",
              "726  me I'm not attending therapy right now I'm not...  \n",
              "727  despite the types of things that we've gone th...  \n",
              "728  no one will even know that i didn't get much s...  \n",
              "729  sense of character and strength and you know I...  \n",
              "\n",
              "[730 rows x 5 columns]"
            ],
            "text/html": [
              "\n",
              "  <div id=\"df-26259624-7d7f-4ee2-911c-880b863b71a4\" class=\"colab-df-container\">\n",
              "    <div>\n",
              "<style scoped>\n",
              "    .dataframe tbody tr th:only-of-type {\n",
              "        vertical-align: middle;\n",
              "    }\n",
              "\n",
              "    .dataframe tbody tr th {\n",
              "        vertical-align: top;\n",
              "    }\n",
              "\n",
              "    .dataframe thead th {\n",
              "        text-align: right;\n",
              "    }\n",
              "</style>\n",
              "<table border=\"1\" class=\"dataframe\">\n",
              "  <thead>\n",
              "    <tr style=\"text-align: right;\">\n",
              "      <th></th>\n",
              "      <th>Patient_ID</th>\n",
              "      <th>Segment_ID</th>\n",
              "      <th>Depression_label</th>\n",
              "      <th>Audio_Segment</th>\n",
              "      <th>Text_Segment</th>\n",
              "    </tr>\n",
              "  </thead>\n",
              "  <tbody>\n",
              "    <tr>\n",
              "      <th>0</th>\n",
              "      <td>374</td>\n",
              "      <td>6</td>\n",
              "      <td>0</td>\n",
              "      <td>(((&lt;pydub.audio_segment.AudioSegment object at...</td>\n",
              "      <td>get me very angry it doesn't happen very often...</td>\n",
              "    </tr>\n",
              "    <tr>\n",
              "      <th>1</th>\n",
              "      <td>414</td>\n",
              "      <td>4</td>\n",
              "      <td>1</td>\n",
              "      <td>(((&lt;pydub.audio_segment.AudioSegment object at...</td>\n",
              "      <td>and just would've stopped there and not have l...</td>\n",
              "    </tr>\n",
              "    <tr>\n",
              "      <th>2</th>\n",
              "      <td>345</td>\n",
              "      <td>3</td>\n",
              "      <td>1</td>\n",
              "      <td>(((&lt;pydub.audio_segment.AudioSegment object at...</td>\n",
              "      <td>my mom and sister yesterday it was just someth...</td>\n",
              "    </tr>\n",
              "    <tr>\n",
              "      <th>3</th>\n",
              "      <td>311</td>\n",
              "      <td>2</td>\n",
              "      <td>1</td>\n",
              "      <td>(((&lt;pydub.audio_segment.AudioSegment object at...</td>\n",
              "      <td>now i live in an apartment uh i don't i don't ...</td>\n",
              "    </tr>\n",
              "    <tr>\n",
              "      <th>4</th>\n",
              "      <td>491</td>\n",
              "      <td>5</td>\n",
              "      <td>0</td>\n",
              "      <td>(((&lt;pydub.audio_segment.AudioSegment object at...</td>\n",
              "      <td>to do what was right according to what god wou...</td>\n",
              "    </tr>\n",
              "    <tr>\n",
              "      <th>...</th>\n",
              "      <td>...</td>\n",
              "      <td>...</td>\n",
              "      <td>...</td>\n",
              "      <td>...</td>\n",
              "      <td>...</td>\n",
              "    </tr>\n",
              "    <tr>\n",
              "      <th>725</th>\n",
              "      <td>636</td>\n",
              "      <td>9</td>\n",
              "      <td>1</td>\n",
              "      <td>(((&lt;pydub.audio_segment.AudioSegment object at...</td>\n",
              "      <td>these threats in the e-mails back like oh yeah...</td>\n",
              "    </tr>\n",
              "    <tr>\n",
              "      <th>726</th>\n",
              "      <td>600</td>\n",
              "      <td>2</td>\n",
              "      <td>1</td>\n",
              "      <td>(((&lt;pydub.audio_segment.AudioSegment object at...</td>\n",
              "      <td>me I'm not attending therapy right now I'm not...</td>\n",
              "    </tr>\n",
              "    <tr>\n",
              "      <th>727</th>\n",
              "      <td>350</td>\n",
              "      <td>4</td>\n",
              "      <td>1</td>\n",
              "      <td>(((&lt;pydub.audio_segment.AudioSegment object at...</td>\n",
              "      <td>despite the types of things that we've gone th...</td>\n",
              "    </tr>\n",
              "    <tr>\n",
              "      <th>728</th>\n",
              "      <td>434</td>\n",
              "      <td>10</td>\n",
              "      <td>0</td>\n",
              "      <td>(((&lt;pydub.audio_segment.AudioSegment object at...</td>\n",
              "      <td>no one will even know that i didn't get much s...</td>\n",
              "    </tr>\n",
              "    <tr>\n",
              "      <th>729</th>\n",
              "      <td>617</td>\n",
              "      <td>7</td>\n",
              "      <td>1</td>\n",
              "      <td>(((&lt;pydub.audio_segment.AudioSegment object at...</td>\n",
              "      <td>sense of character and strength and you know I...</td>\n",
              "    </tr>\n",
              "  </tbody>\n",
              "</table>\n",
              "<p>730 rows × 5 columns</p>\n",
              "</div>\n",
              "    <div class=\"colab-df-buttons\">\n",
              "\n",
              "  <div class=\"colab-df-container\">\n",
              "    <button class=\"colab-df-convert\" onclick=\"convertToInteractive('df-26259624-7d7f-4ee2-911c-880b863b71a4')\"\n",
              "            title=\"Convert this dataframe to an interactive table.\"\n",
              "            style=\"display:none;\">\n",
              "\n",
              "  <svg xmlns=\"http://www.w3.org/2000/svg\" height=\"24px\" viewBox=\"0 -960 960 960\">\n",
              "    <path d=\"M120-120v-720h720v720H120Zm60-500h600v-160H180v160Zm220 220h160v-160H400v160Zm0 220h160v-160H400v160ZM180-400h160v-160H180v160Zm440 0h160v-160H620v160ZM180-180h160v-160H180v160Zm440 0h160v-160H620v160Z\"/>\n",
              "  </svg>\n",
              "    </button>\n",
              "\n",
              "  <style>\n",
              "    .colab-df-container {\n",
              "      display:flex;\n",
              "      gap: 12px;\n",
              "    }\n",
              "\n",
              "    .colab-df-convert {\n",
              "      background-color: #E8F0FE;\n",
              "      border: none;\n",
              "      border-radius: 50%;\n",
              "      cursor: pointer;\n",
              "      display: none;\n",
              "      fill: #1967D2;\n",
              "      height: 32px;\n",
              "      padding: 0 0 0 0;\n",
              "      width: 32px;\n",
              "    }\n",
              "\n",
              "    .colab-df-convert:hover {\n",
              "      background-color: #E2EBFA;\n",
              "      box-shadow: 0px 1px 2px rgba(60, 64, 67, 0.3), 0px 1px 3px 1px rgba(60, 64, 67, 0.15);\n",
              "      fill: #174EA6;\n",
              "    }\n",
              "\n",
              "    .colab-df-buttons div {\n",
              "      margin-bottom: 4px;\n",
              "    }\n",
              "\n",
              "    [theme=dark] .colab-df-convert {\n",
              "      background-color: #3B4455;\n",
              "      fill: #D2E3FC;\n",
              "    }\n",
              "\n",
              "    [theme=dark] .colab-df-convert:hover {\n",
              "      background-color: #434B5C;\n",
              "      box-shadow: 0px 1px 3px 1px rgba(0, 0, 0, 0.15);\n",
              "      filter: drop-shadow(0px 1px 2px rgba(0, 0, 0, 0.3));\n",
              "      fill: #FFFFFF;\n",
              "    }\n",
              "  </style>\n",
              "\n",
              "    <script>\n",
              "      const buttonEl =\n",
              "        document.querySelector('#df-26259624-7d7f-4ee2-911c-880b863b71a4 button.colab-df-convert');\n",
              "      buttonEl.style.display =\n",
              "        google.colab.kernel.accessAllowed ? 'block' : 'none';\n",
              "\n",
              "      async function convertToInteractive(key) {\n",
              "        const element = document.querySelector('#df-26259624-7d7f-4ee2-911c-880b863b71a4');\n",
              "        const dataTable =\n",
              "          await google.colab.kernel.invokeFunction('convertToInteractive',\n",
              "                                                    [key], {});\n",
              "        if (!dataTable) return;\n",
              "\n",
              "        const docLinkHtml = 'Like what you see? Visit the ' +\n",
              "          '<a target=\"_blank\" href=https://colab.research.google.com/notebooks/data_table.ipynb>data table notebook</a>'\n",
              "          + ' to learn more about interactive tables.';\n",
              "        element.innerHTML = '';\n",
              "        dataTable['output_type'] = 'display_data';\n",
              "        await google.colab.output.renderOutput(dataTable, element);\n",
              "        const docLink = document.createElement('div');\n",
              "        docLink.innerHTML = docLinkHtml;\n",
              "        element.appendChild(docLink);\n",
              "      }\n",
              "    </script>\n",
              "  </div>\n",
              "\n",
              "\n",
              "<div id=\"df-4c330b45-c0c1-4286-af2c-b173c4421e06\">\n",
              "  <button class=\"colab-df-quickchart\" onclick=\"quickchart('df-4c330b45-c0c1-4286-af2c-b173c4421e06')\"\n",
              "            title=\"Suggest charts\"\n",
              "            style=\"display:none;\">\n",
              "\n",
              "<svg xmlns=\"http://www.w3.org/2000/svg\" height=\"24px\"viewBox=\"0 0 24 24\"\n",
              "     width=\"24px\">\n",
              "    <g>\n",
              "        <path d=\"M19 3H5c-1.1 0-2 .9-2 2v14c0 1.1.9 2 2 2h14c1.1 0 2-.9 2-2V5c0-1.1-.9-2-2-2zM9 17H7v-7h2v7zm4 0h-2V7h2v10zm4 0h-2v-4h2v4z\"/>\n",
              "    </g>\n",
              "</svg>\n",
              "  </button>\n",
              "\n",
              "<style>\n",
              "  .colab-df-quickchart {\n",
              "      --bg-color: #E8F0FE;\n",
              "      --fill-color: #1967D2;\n",
              "      --hover-bg-color: #E2EBFA;\n",
              "      --hover-fill-color: #174EA6;\n",
              "      --disabled-fill-color: #AAA;\n",
              "      --disabled-bg-color: #DDD;\n",
              "  }\n",
              "\n",
              "  [theme=dark] .colab-df-quickchart {\n",
              "      --bg-color: #3B4455;\n",
              "      --fill-color: #D2E3FC;\n",
              "      --hover-bg-color: #434B5C;\n",
              "      --hover-fill-color: #FFFFFF;\n",
              "      --disabled-bg-color: #3B4455;\n",
              "      --disabled-fill-color: #666;\n",
              "  }\n",
              "\n",
              "  .colab-df-quickchart {\n",
              "    background-color: var(--bg-color);\n",
              "    border: none;\n",
              "    border-radius: 50%;\n",
              "    cursor: pointer;\n",
              "    display: none;\n",
              "    fill: var(--fill-color);\n",
              "    height: 32px;\n",
              "    padding: 0;\n",
              "    width: 32px;\n",
              "  }\n",
              "\n",
              "  .colab-df-quickchart:hover {\n",
              "    background-color: var(--hover-bg-color);\n",
              "    box-shadow: 0 1px 2px rgba(60, 64, 67, 0.3), 0 1px 3px 1px rgba(60, 64, 67, 0.15);\n",
              "    fill: var(--button-hover-fill-color);\n",
              "  }\n",
              "\n",
              "  .colab-df-quickchart-complete:disabled,\n",
              "  .colab-df-quickchart-complete:disabled:hover {\n",
              "    background-color: var(--disabled-bg-color);\n",
              "    fill: var(--disabled-fill-color);\n",
              "    box-shadow: none;\n",
              "  }\n",
              "\n",
              "  .colab-df-spinner {\n",
              "    border: 2px solid var(--fill-color);\n",
              "    border-color: transparent;\n",
              "    border-bottom-color: var(--fill-color);\n",
              "    animation:\n",
              "      spin 1s steps(1) infinite;\n",
              "  }\n",
              "\n",
              "  @keyframes spin {\n",
              "    0% {\n",
              "      border-color: transparent;\n",
              "      border-bottom-color: var(--fill-color);\n",
              "      border-left-color: var(--fill-color);\n",
              "    }\n",
              "    20% {\n",
              "      border-color: transparent;\n",
              "      border-left-color: var(--fill-color);\n",
              "      border-top-color: var(--fill-color);\n",
              "    }\n",
              "    30% {\n",
              "      border-color: transparent;\n",
              "      border-left-color: var(--fill-color);\n",
              "      border-top-color: var(--fill-color);\n",
              "      border-right-color: var(--fill-color);\n",
              "    }\n",
              "    40% {\n",
              "      border-color: transparent;\n",
              "      border-right-color: var(--fill-color);\n",
              "      border-top-color: var(--fill-color);\n",
              "    }\n",
              "    60% {\n",
              "      border-color: transparent;\n",
              "      border-right-color: var(--fill-color);\n",
              "    }\n",
              "    80% {\n",
              "      border-color: transparent;\n",
              "      border-right-color: var(--fill-color);\n",
              "      border-bottom-color: var(--fill-color);\n",
              "    }\n",
              "    90% {\n",
              "      border-color: transparent;\n",
              "      border-bottom-color: var(--fill-color);\n",
              "    }\n",
              "  }\n",
              "</style>\n",
              "\n",
              "  <script>\n",
              "    async function quickchart(key) {\n",
              "      const quickchartButtonEl =\n",
              "        document.querySelector('#' + key + ' button');\n",
              "      quickchartButtonEl.disabled = true;  // To prevent multiple clicks.\n",
              "      quickchartButtonEl.classList.add('colab-df-spinner');\n",
              "      try {\n",
              "        const charts = await google.colab.kernel.invokeFunction(\n",
              "            'suggestCharts', [key], {});\n",
              "      } catch (error) {\n",
              "        console.error('Error during call to suggestCharts:', error);\n",
              "      }\n",
              "      quickchartButtonEl.classList.remove('colab-df-spinner');\n",
              "      quickchartButtonEl.classList.add('colab-df-quickchart-complete');\n",
              "    }\n",
              "    (() => {\n",
              "      let quickchartButtonEl =\n",
              "        document.querySelector('#df-4c330b45-c0c1-4286-af2c-b173c4421e06 button');\n",
              "      quickchartButtonEl.style.display =\n",
              "        google.colab.kernel.accessAllowed ? 'block' : 'none';\n",
              "    })();\n",
              "  </script>\n",
              "</div>\n",
              "    </div>\n",
              "  </div>\n"
            ],
            "application/vnd.google.colaboratory.intrinsic+json": {
              "type": "dataframe",
              "variable_name": "balanced_df",
              "summary": "{\n  \"name\": \"balanced_df\",\n  \"rows\": 730,\n  \"fields\": [\n    {\n      \"column\": \"Patient_ID\",\n      \"properties\": {\n        \"dtype\": \"number\",\n        \"std\": 106,\n        \"min\": 300,\n        \"max\": 716,\n        \"num_unique_values\": 164,\n        \"samples\": [\n          455,\n          328,\n          705\n        ],\n        \"semantic_type\": \"\",\n        \"description\": \"\"\n      }\n    },\n    {\n      \"column\": \"Segment_ID\",\n      \"properties\": {\n        \"dtype\": \"number\",\n        \"std\": 3,\n        \"min\": 1,\n        \"max\": 21,\n        \"num_unique_values\": 21,\n        \"samples\": [\n          6,\n          14,\n          13\n        ],\n        \"semantic_type\": \"\",\n        \"description\": \"\"\n      }\n    },\n    {\n      \"column\": \"Depression_label\",\n      \"properties\": {\n        \"dtype\": \"number\",\n        \"std\": 0,\n        \"min\": 0,\n        \"max\": 1,\n        \"num_unique_values\": 2,\n        \"samples\": [\n          1,\n          0\n        ],\n        \"semantic_type\": \"\",\n        \"description\": \"\"\n      }\n    },\n    {\n      \"column\": \"Audio_Segment\",\n      \"properties\": {\n        \"dtype\": \"string\",\n        \"num_unique_values\": 730,\n        \"samples\": [\n          \"<pydub.audio_segment.AudioSegment object at 0x7bf3cd29fee0>\",\n          \"<pydub.audio_segment.AudioSegment object at 0x7bf3cd29d0c0>\"\n        ],\n        \"semantic_type\": \"\",\n        \"description\": \"\"\n      }\n    },\n    {\n      \"column\": \"Text_Segment\",\n      \"properties\": {\n        \"dtype\": \"string\",\n        \"num_unique_values\": 730,\n        \"samples\": [\n          \"for sure when that happened which was about ten years ago now it was settled in court about seven years ago now and uh yeah it was it was effective you know it was effective in the way you view most everything and in your confidence and that kinda thing i'm sorry [laughter] repeat the question uh peaceful do i feel peaceful well yeah i was peaceful that it that it's settled uh but but angry that it ever happened so it's hard to i'll probably not ever feel peaceful about that issue ever it always the mention of it always makes me angry that i had to go through that yeah i don't think so i tried everything to avoid it [laughter] you know and so uh uh i think that's that was aggravating for me too because i'm a patient person realistic and um and i tried everything to avoid uh confrontation in the matter but it was just required to try to you know help me cover the damage to our lives my daughter's life i uh not now maybe one time in my life not now you if you can't communicate uh you know if\",\n          \"early so long as i go to bed early i get a good night's sleep but i wake up early as well so <laughter> it's kinda like good and bad a lil' bit i go to bed like eight eight thirty and then i wake up at like one one thirty so <laughter> very moody very irritable short short-tempered i guess if anything i think i'm thinking more positively you know like i said especially with my son having a disability you know i i look at it as if you know it's not all bad i mean he has challenges eh but i'm dealing with them a lot better you know as opposed to feeling sorry for him or feeling sorry for myself you know i'm just finding more avenues to work with him you know different resources to help him as opposed to just feeling guilty or sad and depressed about it thank you no occasionally who doesn't <laughter> i don't know can we skip that question <laughter> <sigh> green <laughter> seems to be the word kinda like um yeah probably green like naive a little <laughter> but at the same time smart i think she'll describe me as smart mhm yeah okay no problem bye\"\n        ],\n        \"semantic_type\": \"\",\n        \"description\": \"\"\n      }\n    }\n  ]\n}"
            }
          },
          "metadata": {},
          "execution_count": 306
        }
      ]
    },
    {
      "cell_type": "markdown",
      "source": [
        "### Обчислення аудіо ознак"
      ],
      "metadata": {
        "id": "1YnJP6g__kHE"
      }
    },
    {
      "cell_type": "code",
      "source": [
        "# Функція для витягування аудіо ознак з сегмента\n",
        "def extract_audio_features_from_segment(y, sr=16000):\n",
        "    # 1. MFCC (Мел-кепстральні коефіцієнти)\n",
        "    mfcc = librosa.feature.mfcc(y=y, sr=sr, n_mfcc=13)\n",
        "    mfcc_mean = np.mean(mfcc, axis=1)\n",
        "\n",
        "    # 2. Spectral Contrast (Спектральний контраст)\n",
        "    spectral_contrast = librosa.feature.spectral_contrast(y=y, sr=sr)\n",
        "    spectral_contrast_mean = np.mean(spectral_contrast, axis=1)\n",
        "\n",
        "    # 3. Mel-spectrogram (Мел-спектрограма)\n",
        "    mel_spec = librosa.feature.melspectrogram(y=y, sr=sr, n_mels=80)\n",
        "    mel_spec_mean = np.mean(mel_spec, axis=1)\n",
        "\n",
        "    return {\n",
        "        'mfcc_mean': mfcc_mean,\n",
        "        'spectral_contrast_mean': spectral_contrast_mean,\n",
        "        'mel_spec_mean': mel_spec_mean,\n",
        "    }\n",
        "\n",
        "# Функція для обчислення ознак для аудіосегментів\n",
        "def analyze_audio_segments(balanced_df, mode='train'):\n",
        "    analysis_results = []\n",
        "\n",
        "    for index, row in balanced_df.iterrows():\n",
        "        audio_segment = row['Audio_Segment']\n",
        "        label = row['Depression_label']\n",
        "\n",
        "        y = np.array(audio_segment.get_array_of_samples(), dtype=np.float32)\n",
        "        sr = audio_segment.frame_rate\n",
        "\n",
        "        features = extract_audio_features_from_segment(y, sr=sr)\n",
        "\n",
        "        features['segment_id'] = index\n",
        "        features['depression_label'] = label\n",
        "        if mode == 'test':\n",
        "          patient_id = row['Patient_ID']\n",
        "          features['patient_id'] = patient_id\n",
        "\n",
        "        analysis_results.append(features)\n",
        "\n",
        "\n",
        "    results_df = pd.DataFrame(analysis_results)\n",
        "    return results_df"
      ],
      "metadata": {
        "id": "ABu5t1Z8Do46"
      },
      "execution_count": null,
      "outputs": []
    },
    {
      "cell_type": "code",
      "source": [
        "audio_features_df = analyze_audio_segments(balanced_df)\n",
        "audio_features_test_df = analyze_audio_segments(segments_test_df, mode='test')"
      ],
      "metadata": {
        "id": "mcxdVPByOygL"
      },
      "execution_count": null,
      "outputs": []
    },
    {
      "cell_type": "code",
      "source": [
        "audio_features_df[['mfcc_mean', 'spectral_contrast_mean', 'mel_spec_mean', 'depression_label']]"
      ],
      "metadata": {
        "colab": {
          "base_uri": "https://localhost:8080/",
          "height": 423
        },
        "id": "uw4QITU2RyRM",
        "outputId": "2127cf41-01a8-436f-a557-f9cd36d57c1e"
      },
      "execution_count": null,
      "outputs": [
        {
          "output_type": "execute_result",
          "data": {
            "text/plain": [
              "                                              mfcc_mean  \\\n",
              "0     [570.1031, 128.70393, 3.670262, 23.25678, -9.3...   \n",
              "1     [544.19, 101.52989, -3.5436854, 14.868433, -8....   \n",
              "2     [504.41306, 129.37822, -8.188198, 21.22656, -2...   \n",
              "3     [519.1214, 112.17602, 18.452267, 8.230405, 3.1...   \n",
              "4     [646.872, 108.36707, 2.6288092, 16.358454, -4....   \n",
              "...                                                 ...   \n",
              "1455  [513.19586, 95.486694, 14.263907, 23.145115, 9...   \n",
              "1456  [611.0082, 120.8569, -19.689264, 18.34895, 3.0...   \n",
              "1457  [476.43716, 108.09354, 2.348658, 21.197544, -2...   \n",
              "1458  [568.15967, 120.00197, -6.0037246, 22.45985, 0...   \n",
              "1459  [532.5526, 98.646835, 4.13004, 21.638693, -11....   \n",
              "\n",
              "                                 spectral_contrast_mean  \\\n",
              "0     [19.37590638163838, 16.07774032774062, 18.9339...   \n",
              "1     [21.376128838363865, 21.384391768546735, 21.08...   \n",
              "2     [19.168789197086866, 16.261954408458006, 18.77...   \n",
              "3     [20.54264521329731, 15.78014350116916, 17.9971...   \n",
              "4     [19.145134244682776, 17.991024608577224, 20.09...   \n",
              "...                                                 ...   \n",
              "1455  [18.798547545088955, 14.363445137770368, 16.20...   \n",
              "1456  [19.90841468496577, 17.706397671131242, 19.348...   \n",
              "1457  [21.573404813036568, 17.24246826662884, 19.450...   \n",
              "1458  [18.51555614518317, 17.802590023266763, 20.301...   \n",
              "1459  [18.82874956511641, 20.4229417020172, 21.10465...   \n",
              "\n",
              "                                          mel_spec_mean  depression_label  \n",
              "0     [11579162.0, 39117428.0, 31060382.0, 43655292....                 0  \n",
              "1     [10104887.0, 1006402.06, 899765.4, 41747690.0,...                 0  \n",
              "2     [11426013.0, 6647653.0, 41238532.0, 43776496.0...                 1  \n",
              "3     [10573855.0, 4231969.0, 143855660.0, 201051490...                 1  \n",
              "4     [1449285500.0, 662050560.0, 229388130.0, 36630...                 0  \n",
              "...                                                 ...               ...  \n",
              "1455  [168834140.0, 259314400.0, 449539100.0, 345199...                 0  \n",
              "1456  [6647814.5, 31567356.0, 191083100.0, 107444590...                 0  \n",
              "1457  [23242582.0, 345667.94, 547022.25, 11602352.0,...                 0  \n",
              "1458  [18568762.0, 4633226.5, 1608986.5, 14024919.0,...                 0  \n",
              "1459  [25829620.0, 3897735.2, 1545717.6, 9491837.0, ...                 0  \n",
              "\n",
              "[1460 rows x 4 columns]"
            ],
            "text/html": [
              "\n",
              "  <div id=\"df-7ec85d75-fa09-42cc-925c-8becf6e0ac5b\" class=\"colab-df-container\">\n",
              "    <div>\n",
              "<style scoped>\n",
              "    .dataframe tbody tr th:only-of-type {\n",
              "        vertical-align: middle;\n",
              "    }\n",
              "\n",
              "    .dataframe tbody tr th {\n",
              "        vertical-align: top;\n",
              "    }\n",
              "\n",
              "    .dataframe thead th {\n",
              "        text-align: right;\n",
              "    }\n",
              "</style>\n",
              "<table border=\"1\" class=\"dataframe\">\n",
              "  <thead>\n",
              "    <tr style=\"text-align: right;\">\n",
              "      <th></th>\n",
              "      <th>mfcc_mean</th>\n",
              "      <th>spectral_contrast_mean</th>\n",
              "      <th>mel_spec_mean</th>\n",
              "      <th>depression_label</th>\n",
              "    </tr>\n",
              "  </thead>\n",
              "  <tbody>\n",
              "    <tr>\n",
              "      <th>0</th>\n",
              "      <td>[570.1031, 128.70393, 3.670262, 23.25678, -9.3...</td>\n",
              "      <td>[19.37590638163838, 16.07774032774062, 18.9339...</td>\n",
              "      <td>[11579162.0, 39117428.0, 31060382.0, 43655292....</td>\n",
              "      <td>0</td>\n",
              "    </tr>\n",
              "    <tr>\n",
              "      <th>1</th>\n",
              "      <td>[544.19, 101.52989, -3.5436854, 14.868433, -8....</td>\n",
              "      <td>[21.376128838363865, 21.384391768546735, 21.08...</td>\n",
              "      <td>[10104887.0, 1006402.06, 899765.4, 41747690.0,...</td>\n",
              "      <td>0</td>\n",
              "    </tr>\n",
              "    <tr>\n",
              "      <th>2</th>\n",
              "      <td>[504.41306, 129.37822, -8.188198, 21.22656, -2...</td>\n",
              "      <td>[19.168789197086866, 16.261954408458006, 18.77...</td>\n",
              "      <td>[11426013.0, 6647653.0, 41238532.0, 43776496.0...</td>\n",
              "      <td>1</td>\n",
              "    </tr>\n",
              "    <tr>\n",
              "      <th>3</th>\n",
              "      <td>[519.1214, 112.17602, 18.452267, 8.230405, 3.1...</td>\n",
              "      <td>[20.54264521329731, 15.78014350116916, 17.9971...</td>\n",
              "      <td>[10573855.0, 4231969.0, 143855660.0, 201051490...</td>\n",
              "      <td>1</td>\n",
              "    </tr>\n",
              "    <tr>\n",
              "      <th>4</th>\n",
              "      <td>[646.872, 108.36707, 2.6288092, 16.358454, -4....</td>\n",
              "      <td>[19.145134244682776, 17.991024608577224, 20.09...</td>\n",
              "      <td>[1449285500.0, 662050560.0, 229388130.0, 36630...</td>\n",
              "      <td>0</td>\n",
              "    </tr>\n",
              "    <tr>\n",
              "      <th>...</th>\n",
              "      <td>...</td>\n",
              "      <td>...</td>\n",
              "      <td>...</td>\n",
              "      <td>...</td>\n",
              "    </tr>\n",
              "    <tr>\n",
              "      <th>1455</th>\n",
              "      <td>[513.19586, 95.486694, 14.263907, 23.145115, 9...</td>\n",
              "      <td>[18.798547545088955, 14.363445137770368, 16.20...</td>\n",
              "      <td>[168834140.0, 259314400.0, 449539100.0, 345199...</td>\n",
              "      <td>0</td>\n",
              "    </tr>\n",
              "    <tr>\n",
              "      <th>1456</th>\n",
              "      <td>[611.0082, 120.8569, -19.689264, 18.34895, 3.0...</td>\n",
              "      <td>[19.90841468496577, 17.706397671131242, 19.348...</td>\n",
              "      <td>[6647814.5, 31567356.0, 191083100.0, 107444590...</td>\n",
              "      <td>0</td>\n",
              "    </tr>\n",
              "    <tr>\n",
              "      <th>1457</th>\n",
              "      <td>[476.43716, 108.09354, 2.348658, 21.197544, -2...</td>\n",
              "      <td>[21.573404813036568, 17.24246826662884, 19.450...</td>\n",
              "      <td>[23242582.0, 345667.94, 547022.25, 11602352.0,...</td>\n",
              "      <td>0</td>\n",
              "    </tr>\n",
              "    <tr>\n",
              "      <th>1458</th>\n",
              "      <td>[568.15967, 120.00197, -6.0037246, 22.45985, 0...</td>\n",
              "      <td>[18.51555614518317, 17.802590023266763, 20.301...</td>\n",
              "      <td>[18568762.0, 4633226.5, 1608986.5, 14024919.0,...</td>\n",
              "      <td>0</td>\n",
              "    </tr>\n",
              "    <tr>\n",
              "      <th>1459</th>\n",
              "      <td>[532.5526, 98.646835, 4.13004, 21.638693, -11....</td>\n",
              "      <td>[18.82874956511641, 20.4229417020172, 21.10465...</td>\n",
              "      <td>[25829620.0, 3897735.2, 1545717.6, 9491837.0, ...</td>\n",
              "      <td>0</td>\n",
              "    </tr>\n",
              "  </tbody>\n",
              "</table>\n",
              "<p>1460 rows × 4 columns</p>\n",
              "</div>\n",
              "    <div class=\"colab-df-buttons\">\n",
              "\n",
              "  <div class=\"colab-df-container\">\n",
              "    <button class=\"colab-df-convert\" onclick=\"convertToInteractive('df-7ec85d75-fa09-42cc-925c-8becf6e0ac5b')\"\n",
              "            title=\"Convert this dataframe to an interactive table.\"\n",
              "            style=\"display:none;\">\n",
              "\n",
              "  <svg xmlns=\"http://www.w3.org/2000/svg\" height=\"24px\" viewBox=\"0 -960 960 960\">\n",
              "    <path d=\"M120-120v-720h720v720H120Zm60-500h600v-160H180v160Zm220 220h160v-160H400v160Zm0 220h160v-160H400v160ZM180-400h160v-160H180v160Zm440 0h160v-160H620v160ZM180-180h160v-160H180v160Zm440 0h160v-160H620v160Z\"/>\n",
              "  </svg>\n",
              "    </button>\n",
              "\n",
              "  <style>\n",
              "    .colab-df-container {\n",
              "      display:flex;\n",
              "      gap: 12px;\n",
              "    }\n",
              "\n",
              "    .colab-df-convert {\n",
              "      background-color: #E8F0FE;\n",
              "      border: none;\n",
              "      border-radius: 50%;\n",
              "      cursor: pointer;\n",
              "      display: none;\n",
              "      fill: #1967D2;\n",
              "      height: 32px;\n",
              "      padding: 0 0 0 0;\n",
              "      width: 32px;\n",
              "    }\n",
              "\n",
              "    .colab-df-convert:hover {\n",
              "      background-color: #E2EBFA;\n",
              "      box-shadow: 0px 1px 2px rgba(60, 64, 67, 0.3), 0px 1px 3px 1px rgba(60, 64, 67, 0.15);\n",
              "      fill: #174EA6;\n",
              "    }\n",
              "\n",
              "    .colab-df-buttons div {\n",
              "      margin-bottom: 4px;\n",
              "    }\n",
              "\n",
              "    [theme=dark] .colab-df-convert {\n",
              "      background-color: #3B4455;\n",
              "      fill: #D2E3FC;\n",
              "    }\n",
              "\n",
              "    [theme=dark] .colab-df-convert:hover {\n",
              "      background-color: #434B5C;\n",
              "      box-shadow: 0px 1px 3px 1px rgba(0, 0, 0, 0.15);\n",
              "      filter: drop-shadow(0px 1px 2px rgba(0, 0, 0, 0.3));\n",
              "      fill: #FFFFFF;\n",
              "    }\n",
              "  </style>\n",
              "\n",
              "    <script>\n",
              "      const buttonEl =\n",
              "        document.querySelector('#df-7ec85d75-fa09-42cc-925c-8becf6e0ac5b button.colab-df-convert');\n",
              "      buttonEl.style.display =\n",
              "        google.colab.kernel.accessAllowed ? 'block' : 'none';\n",
              "\n",
              "      async function convertToInteractive(key) {\n",
              "        const element = document.querySelector('#df-7ec85d75-fa09-42cc-925c-8becf6e0ac5b');\n",
              "        const dataTable =\n",
              "          await google.colab.kernel.invokeFunction('convertToInteractive',\n",
              "                                                    [key], {});\n",
              "        if (!dataTable) return;\n",
              "\n",
              "        const docLinkHtml = 'Like what you see? Visit the ' +\n",
              "          '<a target=\"_blank\" href=https://colab.research.google.com/notebooks/data_table.ipynb>data table notebook</a>'\n",
              "          + ' to learn more about interactive tables.';\n",
              "        element.innerHTML = '';\n",
              "        dataTable['output_type'] = 'display_data';\n",
              "        await google.colab.output.renderOutput(dataTable, element);\n",
              "        const docLink = document.createElement('div');\n",
              "        docLink.innerHTML = docLinkHtml;\n",
              "        element.appendChild(docLink);\n",
              "      }\n",
              "    </script>\n",
              "  </div>\n",
              "\n",
              "\n",
              "<div id=\"df-39b93456-7321-4602-ab3c-ce55a73a39af\">\n",
              "  <button class=\"colab-df-quickchart\" onclick=\"quickchart('df-39b93456-7321-4602-ab3c-ce55a73a39af')\"\n",
              "            title=\"Suggest charts\"\n",
              "            style=\"display:none;\">\n",
              "\n",
              "<svg xmlns=\"http://www.w3.org/2000/svg\" height=\"24px\"viewBox=\"0 0 24 24\"\n",
              "     width=\"24px\">\n",
              "    <g>\n",
              "        <path d=\"M19 3H5c-1.1 0-2 .9-2 2v14c0 1.1.9 2 2 2h14c1.1 0 2-.9 2-2V5c0-1.1-.9-2-2-2zM9 17H7v-7h2v7zm4 0h-2V7h2v10zm4 0h-2v-4h2v4z\"/>\n",
              "    </g>\n",
              "</svg>\n",
              "  </button>\n",
              "\n",
              "<style>\n",
              "  .colab-df-quickchart {\n",
              "      --bg-color: #E8F0FE;\n",
              "      --fill-color: #1967D2;\n",
              "      --hover-bg-color: #E2EBFA;\n",
              "      --hover-fill-color: #174EA6;\n",
              "      --disabled-fill-color: #AAA;\n",
              "      --disabled-bg-color: #DDD;\n",
              "  }\n",
              "\n",
              "  [theme=dark] .colab-df-quickchart {\n",
              "      --bg-color: #3B4455;\n",
              "      --fill-color: #D2E3FC;\n",
              "      --hover-bg-color: #434B5C;\n",
              "      --hover-fill-color: #FFFFFF;\n",
              "      --disabled-bg-color: #3B4455;\n",
              "      --disabled-fill-color: #666;\n",
              "  }\n",
              "\n",
              "  .colab-df-quickchart {\n",
              "    background-color: var(--bg-color);\n",
              "    border: none;\n",
              "    border-radius: 50%;\n",
              "    cursor: pointer;\n",
              "    display: none;\n",
              "    fill: var(--fill-color);\n",
              "    height: 32px;\n",
              "    padding: 0;\n",
              "    width: 32px;\n",
              "  }\n",
              "\n",
              "  .colab-df-quickchart:hover {\n",
              "    background-color: var(--hover-bg-color);\n",
              "    box-shadow: 0 1px 2px rgba(60, 64, 67, 0.3), 0 1px 3px 1px rgba(60, 64, 67, 0.15);\n",
              "    fill: var(--button-hover-fill-color);\n",
              "  }\n",
              "\n",
              "  .colab-df-quickchart-complete:disabled,\n",
              "  .colab-df-quickchart-complete:disabled:hover {\n",
              "    background-color: var(--disabled-bg-color);\n",
              "    fill: var(--disabled-fill-color);\n",
              "    box-shadow: none;\n",
              "  }\n",
              "\n",
              "  .colab-df-spinner {\n",
              "    border: 2px solid var(--fill-color);\n",
              "    border-color: transparent;\n",
              "    border-bottom-color: var(--fill-color);\n",
              "    animation:\n",
              "      spin 1s steps(1) infinite;\n",
              "  }\n",
              "\n",
              "  @keyframes spin {\n",
              "    0% {\n",
              "      border-color: transparent;\n",
              "      border-bottom-color: var(--fill-color);\n",
              "      border-left-color: var(--fill-color);\n",
              "    }\n",
              "    20% {\n",
              "      border-color: transparent;\n",
              "      border-left-color: var(--fill-color);\n",
              "      border-top-color: var(--fill-color);\n",
              "    }\n",
              "    30% {\n",
              "      border-color: transparent;\n",
              "      border-left-color: var(--fill-color);\n",
              "      border-top-color: var(--fill-color);\n",
              "      border-right-color: var(--fill-color);\n",
              "    }\n",
              "    40% {\n",
              "      border-color: transparent;\n",
              "      border-right-color: var(--fill-color);\n",
              "      border-top-color: var(--fill-color);\n",
              "    }\n",
              "    60% {\n",
              "      border-color: transparent;\n",
              "      border-right-color: var(--fill-color);\n",
              "    }\n",
              "    80% {\n",
              "      border-color: transparent;\n",
              "      border-right-color: var(--fill-color);\n",
              "      border-bottom-color: var(--fill-color);\n",
              "    }\n",
              "    90% {\n",
              "      border-color: transparent;\n",
              "      border-bottom-color: var(--fill-color);\n",
              "    }\n",
              "  }\n",
              "</style>\n",
              "\n",
              "  <script>\n",
              "    async function quickchart(key) {\n",
              "      const quickchartButtonEl =\n",
              "        document.querySelector('#' + key + ' button');\n",
              "      quickchartButtonEl.disabled = true;  // To prevent multiple clicks.\n",
              "      quickchartButtonEl.classList.add('colab-df-spinner');\n",
              "      try {\n",
              "        const charts = await google.colab.kernel.invokeFunction(\n",
              "            'suggestCharts', [key], {});\n",
              "      } catch (error) {\n",
              "        console.error('Error during call to suggestCharts:', error);\n",
              "      }\n",
              "      quickchartButtonEl.classList.remove('colab-df-spinner');\n",
              "      quickchartButtonEl.classList.add('colab-df-quickchart-complete');\n",
              "    }\n",
              "    (() => {\n",
              "      let quickchartButtonEl =\n",
              "        document.querySelector('#df-39b93456-7321-4602-ab3c-ce55a73a39af button');\n",
              "      quickchartButtonEl.style.display =\n",
              "        google.colab.kernel.accessAllowed ? 'block' : 'none';\n",
              "    })();\n",
              "  </script>\n",
              "</div>\n",
              "    </div>\n",
              "  </div>\n"
            ],
            "application/vnd.google.colaboratory.intrinsic+json": {
              "type": "dataframe",
              "summary": "{\n  \"name\": \"audio_features_df[['mfcc_mean', 'spectral_contrast_mean', 'mel_spec_mean', 'depression_label']]\",\n  \"rows\": 1460,\n  \"fields\": [\n    {\n      \"column\": \"mfcc_mean\",\n      \"properties\": {\n        \"dtype\": \"object\",\n        \"semantic_type\": \"\",\n        \"description\": \"\"\n      }\n    },\n    {\n      \"column\": \"spectral_contrast_mean\",\n      \"properties\": {\n        \"dtype\": \"object\",\n        \"semantic_type\": \"\",\n        \"description\": \"\"\n      }\n    },\n    {\n      \"column\": \"mel_spec_mean\",\n      \"properties\": {\n        \"dtype\": \"object\",\n        \"semantic_type\": \"\",\n        \"description\": \"\"\n      }\n    },\n    {\n      \"column\": \"depression_label\",\n      \"properties\": {\n        \"dtype\": \"number\",\n        \"std\": 0,\n        \"min\": 0,\n        \"max\": 1,\n        \"num_unique_values\": 2,\n        \"samples\": [\n          1,\n          0\n        ],\n        \"semantic_type\": \"\",\n        \"description\": \"\"\n      }\n    }\n  ]\n}"
            }
          },
          "metadata": {},
          "execution_count": 23
        }
      ]
    },
    {
      "cell_type": "code",
      "source": [
        "audio_features_df.to_csv(\"/content/drive/MyDrive/diploma_data/audio_features.csv\", index=False)\n",
        "audio_features_test_df.to_csv(\"/content/drive/MyDrive/diploma_data/audio_features_test.csv\", index=False)"
      ],
      "metadata": {
        "id": "Zzv_6hBtUbUe"
      },
      "execution_count": null,
      "outputs": []
    },
    {
      "cell_type": "code",
      "source": [
        "audio_features_df = pd.read_csv('/content/drive/MyDrive/diploma_data/audio_features.csv')\n",
        "audio_features_test_df = pd.read_csv('/content/drive/MyDrive/diploma_data/audio_features_test.csv')"
      ],
      "metadata": {
        "id": "nOVRXv1OUjcP"
      },
      "execution_count": null,
      "outputs": []
    },
    {
      "cell_type": "code",
      "source": [
        "# Функція для додавання ком між числами\n",
        "def fix_missing_commas(text):\n",
        "    if not isinstance(text, str):\n",
        "        return text\n",
        "    fixed_text = re.sub(r\"(\\d)\\s+(\\d)\", r\"\\1, \\2\", text)\n",
        "    return fixed_text\n",
        "\n",
        "# Функція для виправлення та перетворення стовпця\n",
        "def fix_and_unpack_column_inplace(df, column_name, num_elements, prefix):\n",
        "    df[column_name] = df[column_name].apply(fix_missing_commas)\n",
        "\n",
        "    df[column_name] = df[column_name].apply(lambda x: ast.literal_eval(x) if isinstance(x, str) else x)\n",
        "\n",
        "    # Розпаковуємо списки у окремі стовпці\n",
        "    new_columns = [prefix + str(i) for i in range(1, num_elements + 1)]\n",
        "    df[new_columns] = pd.DataFrame(df[column_name].tolist(), index=df.index)\n",
        "\n",
        "# Розпаковуємо мел-спектрограми (80 елементів)\n",
        "fix_and_unpack_column_inplace(audio_features_df, 'mel_spec_mean', 80, 'mel_spec_mean_')\n",
        "fix_and_unpack_column_inplace(audio_features_test_df, 'mel_spec_mean', 80, 'mel_spec_mean_')\n",
        "\n",
        "# Розпаковуємо MFCC (13 елементів)\n",
        "fix_and_unpack_column_inplace(audio_features_df, 'mfcc_mean', 13, 'mfcc_mean_')\n",
        "fix_and_unpack_column_inplace(audio_features_test_df, 'mfcc_mean', 13, 'mfcc_mean_')\n",
        "\n",
        "# Розпаковуємо spectral contrast (7 елементів)\n",
        "fix_and_unpack_column_inplace(audio_features_df, 'spectral_contrast_mean', 7, 'spectral_contrast_mean_')\n",
        "fix_and_unpack_column_inplace(audio_features_test_df, 'spectral_contrast_mean', 7, 'spectral_contrast_mean_')"
      ],
      "metadata": {
        "id": "UZR5VGgWwksV"
      },
      "execution_count": null,
      "outputs": []
    },
    {
      "cell_type": "code",
      "source": [
        "mel_mean_columns = ['mel_spec_mean_' + str(i) for i in range(1, 81)]\n",
        "mfcc_mean_columns = ['mfcc_mean_' + str(i) for i in range(1, 14)]\n",
        "spectral_contrast_mean_columns = ['spectral_contrast_mean_' + str(i) for i in range(1, 8)]\n",
        "features_columns = mel_mean_columns + spectral_contrast_mean_columns + mfcc_mean_columns\n",
        "X_audio = audio_features_df[features_columns].values\n",
        "X_audio_test = audio_features_test_df[features_columns].values\n",
        "y_audio = audio_features_df['depression_label'].values"
      ],
      "metadata": {
        "id": "VTmSQstHVMpG"
      },
      "execution_count": null,
      "outputs": []
    },
    {
      "cell_type": "code",
      "source": [
        "scaler = StandardScaler()\n",
        "X_audio = scaler.fit_transform(X_audio)\n",
        "X_audio_test = scaler.transform(X_audio_test)"
      ],
      "metadata": {
        "id": "77cZU9UZCPnQ"
      },
      "execution_count": null,
      "outputs": []
    },
    {
      "cell_type": "markdown",
      "source": [
        "### Попередня обробка текстових ознак"
      ],
      "metadata": {
        "id": "JEOfcvYoAQ3c"
      }
    },
    {
      "cell_type": "code",
      "source": [
        "def handle_negations(text):\n",
        "    # Замінюємо скорочені форми на повні заперечення\n",
        "    text = re.sub(r\"\\b(isn't)\\b\", \"is not\", text)\n",
        "    text = re.sub(r\"\\b(wasn't)\\b\", \"was not\", text)\n",
        "    text = re.sub(r\"\\b(aren't)\\b\", \"are not\", text)\n",
        "    text = re.sub(r\"\\b(weren't)\\b\", \"were not\", text)\n",
        "    text = re.sub(r\"\\b(don't)\\b\", \"do not\", text)\n",
        "    text = re.sub(r\"\\b(doesn't)\\b\", \"does not\", text)\n",
        "    text = re.sub(r\"\\b(didn't)\\b\", \"did not\", text)\n",
        "    text = re.sub(r\"\\b(can't)\\b\", \"cannot\", text)\n",
        "    text = re.sub(r\"\\b(couldn't)\\b\", \"could not\", text)\n",
        "    text = re.sub(r\"\\b(shouldn't)\\b\", \"should not\", text)\n",
        "    text = re.sub(r\"\\b(wouldn't)\\b\", \"would not\", text)\n",
        "    text = re.sub(r\"\\b(haven't)\\b\", \"have not\", text)\n",
        "    text = re.sub(r\"\\b(hasn't)\\b\", \"has not\", text)\n",
        "    text = re.sub(r\"\\b(hadn't)\\b\", \"had not\", text)\n",
        "    text = re.sub(r\"\\b(won't)\\b\", \"will not\", text)\n",
        "\n",
        "    return text"
      ],
      "metadata": {
        "id": "uiXLdbTPaLQy"
      },
      "execution_count": null,
      "outputs": []
    },
    {
      "cell_type": "code",
      "source": [
        "balanced_df['Text_Segment'] = balanced_df['Text_Segment'].apply(handle_negations)\n",
        "segments_test_df['Text_Segment'] = segments_test_df['Text_Segment'].apply(handle_negations)"
      ],
      "metadata": {
        "id": "ZJzE8hgYbcWv"
      },
      "execution_count": null,
      "outputs": []
    },
    {
      "cell_type": "code",
      "source": [
        "def preprocess(text):\n",
        "    text = re.sub(r\"<.*?>\", \"\", text) # Видалення всіх слів між <>\n",
        "    text = re.sub(\"[\\d]\",\"\", text) # видалення цифр\n",
        "    text = text.lower()\n",
        "    words = text.split()\n",
        "    sentence = \"\"\n",
        "    for word in words:\n",
        "         if len(word) > 1: # враховуються слова з довжиною більше 1 символу\n",
        "            sentence = sentence + word + ' '\n",
        "    return(sentence)"
      ],
      "metadata": {
        "id": "ocAa2KT_cWT3"
      },
      "execution_count": null,
      "outputs": []
    },
    {
      "cell_type": "code",
      "source": [
        "nltk.download('wordnet')"
      ],
      "metadata": {
        "colab": {
          "base_uri": "https://localhost:8080/"
        },
        "id": "KI_Ebhsnc9ah",
        "outputId": "f4c13287-7561-4715-d200-b2b4b1c776af"
      },
      "execution_count": null,
      "outputs": [
        {
          "output_type": "stream",
          "name": "stderr",
          "text": [
            "[nltk_data] Downloading package wordnet to /root/nltk_data...\n"
          ]
        },
        {
          "output_type": "execute_result",
          "data": {
            "text/plain": [
              "True"
            ]
          },
          "metadata": {},
          "execution_count": 14
        }
      ]
    },
    {
      "cell_type": "code",
      "source": [
        "balanced_df['Text_Segment'] = balanced_df['Text_Segment'].apply(lambda s : preprocess(s))\n",
        "segments_test_df['Text_Segment'] = segments_test_df['Text_Segment'].apply(lambda s : preprocess(s))"
      ],
      "metadata": {
        "id": "AjmvavW1cZoT"
      },
      "execution_count": null,
      "outputs": []
    },
    {
      "cell_type": "code",
      "source": [
        "balanced_df['Text_Segment'].head(10)"
      ],
      "metadata": {
        "colab": {
          "base_uri": "https://localhost:8080/",
          "height": 397
        },
        "id": "5GovUvGtEyuK",
        "outputId": "c53a6118-fec7-451a-df96-babbc0d18670"
      },
      "execution_count": null,
      "outputs": [
        {
          "output_type": "execute_result",
          "data": {
            "text/plain": [
              "0    places but that takes awhile to afford so we v...\n",
              "1    sure well thank you southern california the we...\n",
              "2    hard for me to focus um not really but can exp...\n",
              "3    know send her texts periodically but uh most o...\n",
              "4    hardest decision ve ever had to make the harde...\n",
              "5    and heavy snorer snore like chainsaw so there ...\n",
              "6    so um yeah the psychology definitely comes int...\n",
              "7    yes okay feeling little tired and uh worried u...\n",
              "8    fragile and think they re pains in the asses m...\n",
              "9    but other than that no hmm hmm not sure it wou...\n",
              "Name: Text_Segment, dtype: object"
            ],
            "text/html": [
              "<div>\n",
              "<style scoped>\n",
              "    .dataframe tbody tr th:only-of-type {\n",
              "        vertical-align: middle;\n",
              "    }\n",
              "\n",
              "    .dataframe tbody tr th {\n",
              "        vertical-align: top;\n",
              "    }\n",
              "\n",
              "    .dataframe thead th {\n",
              "        text-align: right;\n",
              "    }\n",
              "</style>\n",
              "<table border=\"1\" class=\"dataframe\">\n",
              "  <thead>\n",
              "    <tr style=\"text-align: right;\">\n",
              "      <th></th>\n",
              "      <th>Text_Segment</th>\n",
              "    </tr>\n",
              "  </thead>\n",
              "  <tbody>\n",
              "    <tr>\n",
              "      <th>0</th>\n",
              "      <td>places but that takes awhile to afford so we v...</td>\n",
              "    </tr>\n",
              "    <tr>\n",
              "      <th>1</th>\n",
              "      <td>sure well thank you southern california the we...</td>\n",
              "    </tr>\n",
              "    <tr>\n",
              "      <th>2</th>\n",
              "      <td>hard for me to focus um not really but can exp...</td>\n",
              "    </tr>\n",
              "    <tr>\n",
              "      <th>3</th>\n",
              "      <td>know send her texts periodically but uh most o...</td>\n",
              "    </tr>\n",
              "    <tr>\n",
              "      <th>4</th>\n",
              "      <td>hardest decision ve ever had to make the harde...</td>\n",
              "    </tr>\n",
              "    <tr>\n",
              "      <th>5</th>\n",
              "      <td>and heavy snorer snore like chainsaw so there ...</td>\n",
              "    </tr>\n",
              "    <tr>\n",
              "      <th>6</th>\n",
              "      <td>so um yeah the psychology definitely comes int...</td>\n",
              "    </tr>\n",
              "    <tr>\n",
              "      <th>7</th>\n",
              "      <td>yes okay feeling little tired and uh worried u...</td>\n",
              "    </tr>\n",
              "    <tr>\n",
              "      <th>8</th>\n",
              "      <td>fragile and think they re pains in the asses m...</td>\n",
              "    </tr>\n",
              "    <tr>\n",
              "      <th>9</th>\n",
              "      <td>but other than that no hmm hmm not sure it wou...</td>\n",
              "    </tr>\n",
              "  </tbody>\n",
              "</table>\n",
              "</div><br><label><b>dtype:</b> object</label>"
            ]
          },
          "metadata": {},
          "execution_count": 19
        }
      ]
    },
    {
      "cell_type": "markdown",
      "source": [
        "### Обчислення текстових ознак"
      ],
      "metadata": {
        "id": "JVCIGOO4Aa0p"
      }
    },
    {
      "cell_type": "markdown",
      "source": [
        "Обчислюються текстові ознаки шляхом збільшення ваги слів, пов'язаних з депресією, та застосування методу TF-IDF."
      ],
      "metadata": {
        "id": "r4lRE79dBDgG"
      }
    },
    {
      "cell_type": "code",
      "source": [
        "# Завантажуємо GloVe вектори\n",
        "glove_path = \"/content/glove.6B.100d.txt\"  # Замініть на свій шлях\n",
        "embeddings_index = {}\n",
        "\n",
        "with open(glove_path, encoding='utf-8') as f:\n",
        "    for line in f:\n",
        "        values = line.split()\n",
        "        word = values[0]\n",
        "        vector = np.asarray(values[1:], dtype='float32')\n",
        "        embeddings_index[word] = vector\n",
        "\n",
        "print(f\"Завантажено {len(embeddings_index)} векторів слів.\")"
      ],
      "metadata": {
        "colab": {
          "base_uri": "https://localhost:8080/"
        },
        "id": "0SqQ48wZkdQz",
        "outputId": "71a3e28a-33ce-4b11-ee5f-55175d250af9"
      },
      "execution_count": null,
      "outputs": [
        {
          "output_type": "stream",
          "name": "stdout",
          "text": [
            "Завантажено 400000 векторів слів.\n"
          ]
        }
      ]
    },
    {
      "cell_type": "code",
      "source": [
        "depression_keywords = [\"hopeless\", \"tired\", \"worthless\", \"sad\", \"lonely\", \"depressed\", \"depression\", \"unhappy\",\n",
        "                       \"guilty\", \"disappointed\", \"anxious\", \"fatigue\", \"suicidal\", \"suicide\"]"
      ],
      "metadata": {
        "id": "GgNg8ZTSkhTx"
      },
      "execution_count": null,
      "outputs": []
    },
    {
      "cell_type": "code",
      "source": [
        "def cosine_similarity(vec1, vec2):\n",
        "    return np.dot(vec1, vec2) / (norm(vec1) * norm(vec2))"
      ],
      "metadata": {
        "id": "7vQMhbnVlBDb"
      },
      "execution_count": null,
      "outputs": []
    },
    {
      "cell_type": "code",
      "source": [
        "def find_similar_words(target_word, embeddings_index, top_n=10):\n",
        "    target_vector = embeddings_index.get(target_word)\n",
        "    if target_vector is None:\n",
        "        return []\n",
        "\n",
        "    # Обчислення подібності до кожного слова у словнику GloVe\n",
        "    similarities = {}\n",
        "    for word, vector in embeddings_index.items():\n",
        "        similarity = cosine_similarity(target_vector, vector)\n",
        "        similarities[word] = similarity\n",
        "\n",
        "    # Сортування за подібністю і повернення топ-N слів\n",
        "    sorted_similarities = sorted(similarities.items(), key=lambda x: x[1], reverse=True)\n",
        "    return sorted_similarities[:top_n]"
      ],
      "metadata": {
        "id": "ZVGGKtk8k4j8"
      },
      "execution_count": null,
      "outputs": []
    },
    {
      "cell_type": "code",
      "source": [
        "boosted_words = set(depression_keywords)  # Використовуємо set, щоб уникнути дублювання слів\n",
        "\n",
        "# Додаємо схожі слова до початкового списку\n",
        "for keyword in depression_keywords:\n",
        "    similar_words = find_similar_words(keyword, embeddings_index)\n",
        "    for word, similarity in similar_words:\n",
        "        boosted_words.add(word)"
      ],
      "metadata": {
        "id": "30AWekgHk_Vz"
      },
      "execution_count": null,
      "outputs": []
    },
    {
      "cell_type": "code",
      "source": [
        "boosted_words = list(boosted_words)\n",
        "\n",
        "print(\"Список boosted_words:\", boosted_words)"
      ],
      "metadata": {
        "colab": {
          "base_uri": "https://localhost:8080/"
        },
        "id": "f7pxGX7ZLI73",
        "outputId": "46b8ee9a-d5af-4f61-94fe-0263634299ce"
      },
      "execution_count": null,
      "outputs": [
        {
          "output_type": "stream",
          "name": "stdout",
          "text": [
            "Список boosted_words: ['depression', 'acquitted', 'fearful', 'hopeless', 'exhaustion', 'anxious', 'nausea', 'killed', 'nervous', 'overpriced', 'homicidal', 'pathetic', 'helpless', 'unreadable', 'psychosis', 'illness', 'paranoid', 'bored', 'uncomfortable', 'restless', 'bomb', 'pleased', 'dissatisfied', 'suicidal', 'meaningless', 'negotiable', 'scared', 'chronic', 'sickness', 'worthless', 'impatient', 'utterly', 'distressed', 'surprised', 'onset', 'psychotic', 'miserable', 'hesitant', 'alcoholism', 'discomfort', 'irrelevant', 'eager', 'desolate', 'disappointed', 'lonely', 'bombing', 'terrible', 'mental', 'sad', 'satisfied', 'weak', 'useless', 'murder', 'attack', 'poignant', 'awful', 'pleaded', 'thrilled', 'tiredness', 'heartbreaking', 'charges', 'conviction', 'unstable', 'charged', 'killing', 'murderous', 'guilty', 'horrible', 'ideation', 'insecure', 'bomber', 'tragic', 'wary', 'shocked', 'sorry', 'haunted', 'worried', 'unusable', 'self-destructive', 'schizophrenia', 'fatigue', 'valueless', 'pain', 'plead', 'anxiety', 'desperate', 'jittery', 'disorder', \"'m\", 'disturbed', 'tired', 'hopelessly', 'weary', 'impotent', 'delighted', 'happy', 'militants', 'brave', 'depressed', 'nonexistent', 'sociopathic', 'feel', 'severe', 'bombings', 'attacks', 'bit', 'delusional', 'unhappy', 'suicide', 'afraid', 'feeling', 'stress', 'confused', 'impulsive', 'sentenced', 'indifferent', 'sluggish', 'tormented', 'convicted', 'frustrated', 'scary', 'headaches']\n"
          ]
        }
      ]
    },
    {
      "cell_type": "code",
      "source": [
        "# Видалення зі списку слів, які не пов'язані з депресією\n",
        "words_to_remove = ['pleased', 'bit', 'overpriced', 'negotiable', 'impotent',\n",
        "                   'utterly', 'eager', 'delighted', 'feel', 'happy',\n",
        "                   'mental', 'satisfied', 'ideation']\n",
        "\n",
        "boosted_words = [word for word in boosted_words if word not in words_to_remove]"
      ],
      "metadata": {
        "id": "c-DwhzcKNZ_r"
      },
      "execution_count": null,
      "outputs": []
    },
    {
      "cell_type": "code",
      "source": [
        "len(boosted_words)"
      ],
      "metadata": {
        "colab": {
          "base_uri": "https://localhost:8080/"
        },
        "id": "chsv-QroLDZN",
        "outputId": "38e5a300-d59d-4e74-cb9a-df213ae5440a"
      },
      "execution_count": null,
      "outputs": [
        {
          "output_type": "execute_result",
          "data": {
            "text/plain": [
              "109"
            ]
          },
          "metadata": {},
          "execution_count": 57
        }
      ]
    },
    {
      "cell_type": "code",
      "source": [
        "texts = balanced_df['Text_Segment'].tolist()  # Колонка з текстом\n",
        "labels = balanced_df['Depression_label'].tolist()  # Колонка з мітками"
      ],
      "metadata": {
        "id": "AbhGbsyvmA1G"
      },
      "execution_count": null,
      "outputs": []
    },
    {
      "cell_type": "code",
      "source": [
        "test_texts = segments_test_df['Text_Segment'].tolist()  # Колонка з текстом\n",
        "test_labels = segments_test_df['Depression_label'].tolist()  # Колонка з мітками"
      ],
      "metadata": {
        "id": "iAHouM91l9I8"
      },
      "execution_count": null,
      "outputs": []
    },
    {
      "cell_type": "code",
      "source": [
        "# Функція для збільшення ваги важливих слів\n",
        "def boost_important_words(text, keywords, boost_factor=2):\n",
        "    words = text.split()\n",
        "    boosted_text = []\n",
        "    for word in words:\n",
        "        if word in keywords:\n",
        "            # Подвоюємо вагу слова, повторивши його кілька разів\n",
        "            boosted_text.extend([word] * boost_factor)\n",
        "        else:\n",
        "            boosted_text.append(word)\n",
        "    return \" \".join(boosted_text)\n",
        "\n",
        "boosted_texts = [boost_important_words(text, boosted_words) for text in texts]"
      ],
      "metadata": {
        "id": "ty6DJ6oKnXg3"
      },
      "execution_count": null,
      "outputs": []
    },
    {
      "cell_type": "code",
      "source": [
        "# Використовуємо TF-IDF для перетворення тексту в ознаки\n",
        "vectorizer = TfidfVectorizer(max_features = 3000)\n",
        "X_text = vectorizer.fit_transform(boosted_texts).toarray()\n",
        "X_text_test = vectorizer.transform(test_texts).toarray()"
      ],
      "metadata": {
        "id": "JaoXq3yLnddk"
      },
      "execution_count": null,
      "outputs": []
    },
    {
      "cell_type": "code",
      "source": [
        "X_text.shape"
      ],
      "metadata": {
        "colab": {
          "base_uri": "https://localhost:8080/"
        },
        "id": "OYzJb3ZPot8E",
        "outputId": "a95885d0-5846-4db8-da47-290b8d18f23e"
      },
      "execution_count": null,
      "outputs": [
        {
          "output_type": "execute_result",
          "data": {
            "text/plain": [
              "(1460, 3000)"
            ]
          },
          "metadata": {},
          "execution_count": 45
        }
      ]
    },
    {
      "cell_type": "code",
      "source": [
        "X_text_test.shape"
      ],
      "metadata": {
        "colab": {
          "base_uri": "https://localhost:8080/"
        },
        "id": "WAkKIN9o3fGw",
        "outputId": "e01ad2d0-cbed-426e-d81a-7714236a0d07"
      },
      "execution_count": null,
      "outputs": [
        {
          "output_type": "execute_result",
          "data": {
            "text/plain": [
              "(341, 3000)"
            ]
          },
          "metadata": {},
          "execution_count": 47
        }
      ]
    },
    {
      "cell_type": "markdown",
      "source": [
        "## Модель раннього злиття"
      ],
      "metadata": {
        "id": "Yk8eaMgrCAu8"
      }
    },
    {
      "cell_type": "code",
      "source": [
        "# Ділимо дані на тренувальні та валідаційні набори\n",
        "X_audio_train, X_audio_val, X_text_train, X_text_val, y_train, y_val = train_test_split(\n",
        "    X_audio, X_text, y_audio, test_size=0.2, random_state=42)"
      ],
      "metadata": {
        "id": "2LqyBlYoD4dx"
      },
      "execution_count": null,
      "outputs": []
    },
    {
      "cell_type": "code",
      "source": [
        "# Функція для додавання механізму самоуваги (self-attention)\n",
        "class SelfAttention(tf.keras.layers.Layer):\n",
        "    def __init__(self, embed_dim, num_heads):\n",
        "        super(SelfAttention, self).__init__()\n",
        "        self.multi_head_attention = MultiHeadAttention(num_heads=num_heads, key_dim=embed_dim)\n",
        "        self.layernorm = LayerNormalization(epsilon=1e-6)\n",
        "        self.dropout = Dropout(0.3)\n",
        "\n",
        "    def call(self, inputs):\n",
        "        attn_output = self.multi_head_attention(inputs, inputs)\n",
        "        attn_output = self.dropout(attn_output)\n",
        "        return self.layernorm(inputs + attn_output)\n",
        "\n",
        "# Модель із раннім ф'южном\n",
        "def create_early_fusion_model(audio_input_shape, text_input_shape):\n",
        "    audio_inputs = Input(shape=audio_input_shape)\n",
        "    text_inputs = Input(shape=text_input_shape)\n",
        "    combined_inputs = Concatenate()([audio_inputs, text_inputs])\n",
        "    x = Dense(128, activation='relu')(combined_inputs)\n",
        "    x = Reshape((128, 1))(x)\n",
        "    x = Conv1D(filters=128, kernel_size=3, activation='relu', padding='same')(x)\n",
        "    x = BatchNormalization()(x)\n",
        "    x = Dropout(0.3)(x)\n",
        "    x = Reshape((1, -1))(x)\n",
        "    x = Bidirectional(LSTM(64, return_sequences=True))(x)\n",
        "    x = SelfAttention(embed_dim=64, num_heads=4)(x)\n",
        "    x = GlobalAveragePooling1D()(x)\n",
        "\n",
        "    x = Dense(64, activation='relu')(x)\n",
        "    x = Dropout(0.5)(x)\n",
        "\n",
        "    outputs = Dense(1, activation='sigmoid')(x)\n",
        "\n",
        "    model = Model(inputs=[audio_inputs, text_inputs], outputs=outputs)\n",
        "    return model\n",
        "\n",
        "# Вхідні форми даних\n",
        "audio_input_shape = (100,)\n",
        "text_input_shape = (3000,)\n",
        "\n",
        "early_model = create_early_fusion_model(audio_input_shape, text_input_shape)\n",
        "learning_rate = 0.00001\n",
        "\n",
        "optimizer = Adam(learning_rate=learning_rate)\n",
        "\n",
        "early_model.compile(optimizer=optimizer, loss='binary_crossentropy', metrics=['accuracy'])\n",
        "\n",
        "early_model.summary()"
      ],
      "metadata": {
        "colab": {
          "base_uri": "https://localhost:8080/",
          "height": 776
        },
        "id": "0kO2-oFfUZL9",
        "outputId": "2862afde-8c67-40e4-ebb5-0b8200dd47d0"
      },
      "execution_count": null,
      "outputs": [
        {
          "output_type": "stream",
          "name": "stderr",
          "text": [
            "/usr/local/lib/python3.10/dist-packages/keras/src/ops/nn.py:545: UserWarning: You are using a softmax over axis 3 of a tensor of shape (None, 4, 1, 1). This axis has size 1. The softmax operation will always return the value 1, which is likely not what you intended. Did you mean to use a sigmoid instead?\n",
            "  warnings.warn(\n"
          ]
        },
        {
          "output_type": "display_data",
          "data": {
            "text/plain": [
              "\u001b[1mModel: \"functional_10\"\u001b[0m\n"
            ],
            "text/html": [
              "<pre style=\"white-space:pre;overflow-x:auto;line-height:normal;font-family:Menlo,'DejaVu Sans Mono',consolas,'Courier New',monospace\"><span style=\"font-weight: bold\">Model: \"functional_10\"</span>\n",
              "</pre>\n"
            ]
          },
          "metadata": {}
        },
        {
          "output_type": "display_data",
          "data": {
            "text/plain": [
              "┏━━━━━━━━━━━━━━━━━━━━━━━━━━━┳━━━━━━━━━━━━━━━━━━━━━━━━┳━━━━━━━━━━━━━━━━┳━━━━━━━━━━━━━━━━━━━━━━━━┓\n",
              "┃\u001b[1m \u001b[0m\u001b[1mLayer (type)             \u001b[0m\u001b[1m \u001b[0m┃\u001b[1m \u001b[0m\u001b[1mOutput Shape          \u001b[0m\u001b[1m \u001b[0m┃\u001b[1m \u001b[0m\u001b[1m       Param #\u001b[0m\u001b[1m \u001b[0m┃\u001b[1m \u001b[0m\u001b[1mConnected to          \u001b[0m\u001b[1m \u001b[0m┃\n",
              "┡━━━━━━━━━━━━━━━━━━━━━━━━━━━╇━━━━━━━━━━━━━━━━━━━━━━━━╇━━━━━━━━━━━━━━━━╇━━━━━━━━━━━━━━━━━━━━━━━━┩\n",
              "│ input_layer_20            │ (\u001b[38;5;45mNone\u001b[0m, \u001b[38;5;34m100\u001b[0m)            │              \u001b[38;5;34m0\u001b[0m │ -                      │\n",
              "│ (\u001b[38;5;33mInputLayer\u001b[0m)              │                        │                │                        │\n",
              "├───────────────────────────┼────────────────────────┼────────────────┼────────────────────────┤\n",
              "│ input_layer_21            │ (\u001b[38;5;45mNone\u001b[0m, \u001b[38;5;34m3000\u001b[0m)           │              \u001b[38;5;34m0\u001b[0m │ -                      │\n",
              "│ (\u001b[38;5;33mInputLayer\u001b[0m)              │                        │                │                        │\n",
              "├───────────────────────────┼────────────────────────┼────────────────┼────────────────────────┤\n",
              "│ concatenate_10            │ (\u001b[38;5;45mNone\u001b[0m, \u001b[38;5;34m3100\u001b[0m)           │              \u001b[38;5;34m0\u001b[0m │ input_layer_20[\u001b[38;5;34m0\u001b[0m][\u001b[38;5;34m0\u001b[0m],  │\n",
              "│ (\u001b[38;5;33mConcatenate\u001b[0m)             │                        │                │ input_layer_21[\u001b[38;5;34m0\u001b[0m][\u001b[38;5;34m0\u001b[0m]   │\n",
              "├───────────────────────────┼────────────────────────┼────────────────┼────────────────────────┤\n",
              "│ dense_30 (\u001b[38;5;33mDense\u001b[0m)          │ (\u001b[38;5;45mNone\u001b[0m, \u001b[38;5;34m128\u001b[0m)            │        \u001b[38;5;34m396,928\u001b[0m │ concatenate_10[\u001b[38;5;34m0\u001b[0m][\u001b[38;5;34m0\u001b[0m]   │\n",
              "├───────────────────────────┼────────────────────────┼────────────────┼────────────────────────┤\n",
              "│ reshape_20 (\u001b[38;5;33mReshape\u001b[0m)      │ (\u001b[38;5;45mNone\u001b[0m, \u001b[38;5;34m128\u001b[0m, \u001b[38;5;34m1\u001b[0m)         │              \u001b[38;5;34m0\u001b[0m │ dense_30[\u001b[38;5;34m0\u001b[0m][\u001b[38;5;34m0\u001b[0m]         │\n",
              "├───────────────────────────┼────────────────────────┼────────────────┼────────────────────────┤\n",
              "│ conv1d_14 (\u001b[38;5;33mConv1D\u001b[0m)        │ (\u001b[38;5;45mNone\u001b[0m, \u001b[38;5;34m128\u001b[0m, \u001b[38;5;34m128\u001b[0m)       │            \u001b[38;5;34m512\u001b[0m │ reshape_20[\u001b[38;5;34m0\u001b[0m][\u001b[38;5;34m0\u001b[0m]       │\n",
              "├───────────────────────────┼────────────────────────┼────────────────┼────────────────────────┤\n",
              "│ batch_normalization_14    │ (\u001b[38;5;45mNone\u001b[0m, \u001b[38;5;34m128\u001b[0m, \u001b[38;5;34m128\u001b[0m)       │            \u001b[38;5;34m512\u001b[0m │ conv1d_14[\u001b[38;5;34m0\u001b[0m][\u001b[38;5;34m0\u001b[0m]        │\n",
              "│ (\u001b[38;5;33mBatchNormalization\u001b[0m)      │                        │                │                        │\n",
              "├───────────────────────────┼────────────────────────┼────────────────┼────────────────────────┤\n",
              "│ dropout_44 (\u001b[38;5;33mDropout\u001b[0m)      │ (\u001b[38;5;45mNone\u001b[0m, \u001b[38;5;34m128\u001b[0m, \u001b[38;5;34m128\u001b[0m)       │              \u001b[38;5;34m0\u001b[0m │ batch_normalization_1… │\n",
              "├───────────────────────────┼────────────────────────┼────────────────┼────────────────────────┤\n",
              "│ reshape_21 (\u001b[38;5;33mReshape\u001b[0m)      │ (\u001b[38;5;45mNone\u001b[0m, \u001b[38;5;34m1\u001b[0m, \u001b[38;5;34m16384\u001b[0m)       │              \u001b[38;5;34m0\u001b[0m │ dropout_44[\u001b[38;5;34m0\u001b[0m][\u001b[38;5;34m0\u001b[0m]       │\n",
              "├───────────────────────────┼────────────────────────┼────────────────┼────────────────────────┤\n",
              "│ bidirectional_10          │ (\u001b[38;5;45mNone\u001b[0m, \u001b[38;5;34m1\u001b[0m, \u001b[38;5;34m128\u001b[0m)         │      \u001b[38;5;34m8,421,888\u001b[0m │ reshape_21[\u001b[38;5;34m0\u001b[0m][\u001b[38;5;34m0\u001b[0m]       │\n",
              "│ (\u001b[38;5;33mBidirectional\u001b[0m)           │                        │                │                        │\n",
              "├───────────────────────────┼────────────────────────┼────────────────┼────────────────────────┤\n",
              "│ self_attention_10         │ (\u001b[38;5;45mNone\u001b[0m, \u001b[38;5;34m1\u001b[0m, \u001b[38;5;34m128\u001b[0m)         │        \u001b[38;5;34m132,224\u001b[0m │ bidirectional_10[\u001b[38;5;34m0\u001b[0m][\u001b[38;5;34m0\u001b[0m] │\n",
              "│ (\u001b[38;5;33mSelfAttention\u001b[0m)           │                        │                │                        │\n",
              "├───────────────────────────┼────────────────────────┼────────────────┼────────────────────────┤\n",
              "│ global_average_pooling1d… │ (\u001b[38;5;45mNone\u001b[0m, \u001b[38;5;34m128\u001b[0m)            │              \u001b[38;5;34m0\u001b[0m │ self_attention_10[\u001b[38;5;34m0\u001b[0m][\u001b[38;5;34m…\u001b[0m │\n",
              "│ (\u001b[38;5;33mGlobalAveragePooling1D\u001b[0m)  │                        │                │                        │\n",
              "├───────────────────────────┼────────────────────────┼────────────────┼────────────────────────┤\n",
              "│ dense_31 (\u001b[38;5;33mDense\u001b[0m)          │ (\u001b[38;5;45mNone\u001b[0m, \u001b[38;5;34m64\u001b[0m)             │          \u001b[38;5;34m8,256\u001b[0m │ global_average_poolin… │\n",
              "├───────────────────────────┼────────────────────────┼────────────────┼────────────────────────┤\n",
              "│ dropout_47 (\u001b[38;5;33mDropout\u001b[0m)      │ (\u001b[38;5;45mNone\u001b[0m, \u001b[38;5;34m64\u001b[0m)             │              \u001b[38;5;34m0\u001b[0m │ dense_31[\u001b[38;5;34m0\u001b[0m][\u001b[38;5;34m0\u001b[0m]         │\n",
              "├───────────────────────────┼────────────────────────┼────────────────┼────────────────────────┤\n",
              "│ dense_32 (\u001b[38;5;33mDense\u001b[0m)          │ (\u001b[38;5;45mNone\u001b[0m, \u001b[38;5;34m1\u001b[0m)              │             \u001b[38;5;34m65\u001b[0m │ dropout_47[\u001b[38;5;34m0\u001b[0m][\u001b[38;5;34m0\u001b[0m]       │\n",
              "└───────────────────────────┴────────────────────────┴────────────────┴────────────────────────┘\n"
            ],
            "text/html": [
              "<pre style=\"white-space:pre;overflow-x:auto;line-height:normal;font-family:Menlo,'DejaVu Sans Mono',consolas,'Courier New',monospace\">┏━━━━━━━━━━━━━━━━━━━━━━━━━━━┳━━━━━━━━━━━━━━━━━━━━━━━━┳━━━━━━━━━━━━━━━━┳━━━━━━━━━━━━━━━━━━━━━━━━┓\n",
              "┃<span style=\"font-weight: bold\"> Layer (type)              </span>┃<span style=\"font-weight: bold\"> Output Shape           </span>┃<span style=\"font-weight: bold\">        Param # </span>┃<span style=\"font-weight: bold\"> Connected to           </span>┃\n",
              "┡━━━━━━━━━━━━━━━━━━━━━━━━━━━╇━━━━━━━━━━━━━━━━━━━━━━━━╇━━━━━━━━━━━━━━━━╇━━━━━━━━━━━━━━━━━━━━━━━━┩\n",
              "│ input_layer_20            │ (<span style=\"color: #00d7ff; text-decoration-color: #00d7ff\">None</span>, <span style=\"color: #00af00; text-decoration-color: #00af00\">100</span>)            │              <span style=\"color: #00af00; text-decoration-color: #00af00\">0</span> │ -                      │\n",
              "│ (<span style=\"color: #0087ff; text-decoration-color: #0087ff\">InputLayer</span>)              │                        │                │                        │\n",
              "├───────────────────────────┼────────────────────────┼────────────────┼────────────────────────┤\n",
              "│ input_layer_21            │ (<span style=\"color: #00d7ff; text-decoration-color: #00d7ff\">None</span>, <span style=\"color: #00af00; text-decoration-color: #00af00\">3000</span>)           │              <span style=\"color: #00af00; text-decoration-color: #00af00\">0</span> │ -                      │\n",
              "│ (<span style=\"color: #0087ff; text-decoration-color: #0087ff\">InputLayer</span>)              │                        │                │                        │\n",
              "├───────────────────────────┼────────────────────────┼────────────────┼────────────────────────┤\n",
              "│ concatenate_10            │ (<span style=\"color: #00d7ff; text-decoration-color: #00d7ff\">None</span>, <span style=\"color: #00af00; text-decoration-color: #00af00\">3100</span>)           │              <span style=\"color: #00af00; text-decoration-color: #00af00\">0</span> │ input_layer_20[<span style=\"color: #00af00; text-decoration-color: #00af00\">0</span>][<span style=\"color: #00af00; text-decoration-color: #00af00\">0</span>],  │\n",
              "│ (<span style=\"color: #0087ff; text-decoration-color: #0087ff\">Concatenate</span>)             │                        │                │ input_layer_21[<span style=\"color: #00af00; text-decoration-color: #00af00\">0</span>][<span style=\"color: #00af00; text-decoration-color: #00af00\">0</span>]   │\n",
              "├───────────────────────────┼────────────────────────┼────────────────┼────────────────────────┤\n",
              "│ dense_30 (<span style=\"color: #0087ff; text-decoration-color: #0087ff\">Dense</span>)          │ (<span style=\"color: #00d7ff; text-decoration-color: #00d7ff\">None</span>, <span style=\"color: #00af00; text-decoration-color: #00af00\">128</span>)            │        <span style=\"color: #00af00; text-decoration-color: #00af00\">396,928</span> │ concatenate_10[<span style=\"color: #00af00; text-decoration-color: #00af00\">0</span>][<span style=\"color: #00af00; text-decoration-color: #00af00\">0</span>]   │\n",
              "├───────────────────────────┼────────────────────────┼────────────────┼────────────────────────┤\n",
              "│ reshape_20 (<span style=\"color: #0087ff; text-decoration-color: #0087ff\">Reshape</span>)      │ (<span style=\"color: #00d7ff; text-decoration-color: #00d7ff\">None</span>, <span style=\"color: #00af00; text-decoration-color: #00af00\">128</span>, <span style=\"color: #00af00; text-decoration-color: #00af00\">1</span>)         │              <span style=\"color: #00af00; text-decoration-color: #00af00\">0</span> │ dense_30[<span style=\"color: #00af00; text-decoration-color: #00af00\">0</span>][<span style=\"color: #00af00; text-decoration-color: #00af00\">0</span>]         │\n",
              "├───────────────────────────┼────────────────────────┼────────────────┼────────────────────────┤\n",
              "│ conv1d_14 (<span style=\"color: #0087ff; text-decoration-color: #0087ff\">Conv1D</span>)        │ (<span style=\"color: #00d7ff; text-decoration-color: #00d7ff\">None</span>, <span style=\"color: #00af00; text-decoration-color: #00af00\">128</span>, <span style=\"color: #00af00; text-decoration-color: #00af00\">128</span>)       │            <span style=\"color: #00af00; text-decoration-color: #00af00\">512</span> │ reshape_20[<span style=\"color: #00af00; text-decoration-color: #00af00\">0</span>][<span style=\"color: #00af00; text-decoration-color: #00af00\">0</span>]       │\n",
              "├───────────────────────────┼────────────────────────┼────────────────┼────────────────────────┤\n",
              "│ batch_normalization_14    │ (<span style=\"color: #00d7ff; text-decoration-color: #00d7ff\">None</span>, <span style=\"color: #00af00; text-decoration-color: #00af00\">128</span>, <span style=\"color: #00af00; text-decoration-color: #00af00\">128</span>)       │            <span style=\"color: #00af00; text-decoration-color: #00af00\">512</span> │ conv1d_14[<span style=\"color: #00af00; text-decoration-color: #00af00\">0</span>][<span style=\"color: #00af00; text-decoration-color: #00af00\">0</span>]        │\n",
              "│ (<span style=\"color: #0087ff; text-decoration-color: #0087ff\">BatchNormalization</span>)      │                        │                │                        │\n",
              "├───────────────────────────┼────────────────────────┼────────────────┼────────────────────────┤\n",
              "│ dropout_44 (<span style=\"color: #0087ff; text-decoration-color: #0087ff\">Dropout</span>)      │ (<span style=\"color: #00d7ff; text-decoration-color: #00d7ff\">None</span>, <span style=\"color: #00af00; text-decoration-color: #00af00\">128</span>, <span style=\"color: #00af00; text-decoration-color: #00af00\">128</span>)       │              <span style=\"color: #00af00; text-decoration-color: #00af00\">0</span> │ batch_normalization_1… │\n",
              "├───────────────────────────┼────────────────────────┼────────────────┼────────────────────────┤\n",
              "│ reshape_21 (<span style=\"color: #0087ff; text-decoration-color: #0087ff\">Reshape</span>)      │ (<span style=\"color: #00d7ff; text-decoration-color: #00d7ff\">None</span>, <span style=\"color: #00af00; text-decoration-color: #00af00\">1</span>, <span style=\"color: #00af00; text-decoration-color: #00af00\">16384</span>)       │              <span style=\"color: #00af00; text-decoration-color: #00af00\">0</span> │ dropout_44[<span style=\"color: #00af00; text-decoration-color: #00af00\">0</span>][<span style=\"color: #00af00; text-decoration-color: #00af00\">0</span>]       │\n",
              "├───────────────────────────┼────────────────────────┼────────────────┼────────────────────────┤\n",
              "│ bidirectional_10          │ (<span style=\"color: #00d7ff; text-decoration-color: #00d7ff\">None</span>, <span style=\"color: #00af00; text-decoration-color: #00af00\">1</span>, <span style=\"color: #00af00; text-decoration-color: #00af00\">128</span>)         │      <span style=\"color: #00af00; text-decoration-color: #00af00\">8,421,888</span> │ reshape_21[<span style=\"color: #00af00; text-decoration-color: #00af00\">0</span>][<span style=\"color: #00af00; text-decoration-color: #00af00\">0</span>]       │\n",
              "│ (<span style=\"color: #0087ff; text-decoration-color: #0087ff\">Bidirectional</span>)           │                        │                │                        │\n",
              "├───────────────────────────┼────────────────────────┼────────────────┼────────────────────────┤\n",
              "│ self_attention_10         │ (<span style=\"color: #00d7ff; text-decoration-color: #00d7ff\">None</span>, <span style=\"color: #00af00; text-decoration-color: #00af00\">1</span>, <span style=\"color: #00af00; text-decoration-color: #00af00\">128</span>)         │        <span style=\"color: #00af00; text-decoration-color: #00af00\">132,224</span> │ bidirectional_10[<span style=\"color: #00af00; text-decoration-color: #00af00\">0</span>][<span style=\"color: #00af00; text-decoration-color: #00af00\">0</span>] │\n",
              "│ (<span style=\"color: #0087ff; text-decoration-color: #0087ff\">SelfAttention</span>)           │                        │                │                        │\n",
              "├───────────────────────────┼────────────────────────┼────────────────┼────────────────────────┤\n",
              "│ global_average_pooling1d… │ (<span style=\"color: #00d7ff; text-decoration-color: #00d7ff\">None</span>, <span style=\"color: #00af00; text-decoration-color: #00af00\">128</span>)            │              <span style=\"color: #00af00; text-decoration-color: #00af00\">0</span> │ self_attention_10[<span style=\"color: #00af00; text-decoration-color: #00af00\">0</span>][<span style=\"color: #00af00; text-decoration-color: #00af00\">…</span> │\n",
              "│ (<span style=\"color: #0087ff; text-decoration-color: #0087ff\">GlobalAveragePooling1D</span>)  │                        │                │                        │\n",
              "├───────────────────────────┼────────────────────────┼────────────────┼────────────────────────┤\n",
              "│ dense_31 (<span style=\"color: #0087ff; text-decoration-color: #0087ff\">Dense</span>)          │ (<span style=\"color: #00d7ff; text-decoration-color: #00d7ff\">None</span>, <span style=\"color: #00af00; text-decoration-color: #00af00\">64</span>)             │          <span style=\"color: #00af00; text-decoration-color: #00af00\">8,256</span> │ global_average_poolin… │\n",
              "├───────────────────────────┼────────────────────────┼────────────────┼────────────────────────┤\n",
              "│ dropout_47 (<span style=\"color: #0087ff; text-decoration-color: #0087ff\">Dropout</span>)      │ (<span style=\"color: #00d7ff; text-decoration-color: #00d7ff\">None</span>, <span style=\"color: #00af00; text-decoration-color: #00af00\">64</span>)             │              <span style=\"color: #00af00; text-decoration-color: #00af00\">0</span> │ dense_31[<span style=\"color: #00af00; text-decoration-color: #00af00\">0</span>][<span style=\"color: #00af00; text-decoration-color: #00af00\">0</span>]         │\n",
              "├───────────────────────────┼────────────────────────┼────────────────┼────────────────────────┤\n",
              "│ dense_32 (<span style=\"color: #0087ff; text-decoration-color: #0087ff\">Dense</span>)          │ (<span style=\"color: #00d7ff; text-decoration-color: #00d7ff\">None</span>, <span style=\"color: #00af00; text-decoration-color: #00af00\">1</span>)              │             <span style=\"color: #00af00; text-decoration-color: #00af00\">65</span> │ dropout_47[<span style=\"color: #00af00; text-decoration-color: #00af00\">0</span>][<span style=\"color: #00af00; text-decoration-color: #00af00\">0</span>]       │\n",
              "└───────────────────────────┴────────────────────────┴────────────────┴────────────────────────┘\n",
              "</pre>\n"
            ]
          },
          "metadata": {}
        },
        {
          "output_type": "display_data",
          "data": {
            "text/plain": [
              "\u001b[1m Total params: \u001b[0m\u001b[38;5;34m8,960,385\u001b[0m (34.18 MB)\n"
            ],
            "text/html": [
              "<pre style=\"white-space:pre;overflow-x:auto;line-height:normal;font-family:Menlo,'DejaVu Sans Mono',consolas,'Courier New',monospace\"><span style=\"font-weight: bold\"> Total params: </span><span style=\"color: #00af00; text-decoration-color: #00af00\">8,960,385</span> (34.18 MB)\n",
              "</pre>\n"
            ]
          },
          "metadata": {}
        },
        {
          "output_type": "display_data",
          "data": {
            "text/plain": [
              "\u001b[1m Trainable params: \u001b[0m\u001b[38;5;34m8,960,129\u001b[0m (34.18 MB)\n"
            ],
            "text/html": [
              "<pre style=\"white-space:pre;overflow-x:auto;line-height:normal;font-family:Menlo,'DejaVu Sans Mono',consolas,'Courier New',monospace\"><span style=\"font-weight: bold\"> Trainable params: </span><span style=\"color: #00af00; text-decoration-color: #00af00\">8,960,129</span> (34.18 MB)\n",
              "</pre>\n"
            ]
          },
          "metadata": {}
        },
        {
          "output_type": "display_data",
          "data": {
            "text/plain": [
              "\u001b[1m Non-trainable params: \u001b[0m\u001b[38;5;34m256\u001b[0m (1.00 KB)\n"
            ],
            "text/html": [
              "<pre style=\"white-space:pre;overflow-x:auto;line-height:normal;font-family:Menlo,'DejaVu Sans Mono',consolas,'Courier New',monospace\"><span style=\"font-weight: bold\"> Non-trainable params: </span><span style=\"color: #00af00; text-decoration-color: #00af00\">256</span> (1.00 KB)\n",
              "</pre>\n"
            ]
          },
          "metadata": {}
        }
      ]
    },
    {
      "cell_type": "code",
      "source": [
        "hist = early_model.fit([X_audio_train, X_text_train], y_train, epochs=30, batch_size=32, validation_data=([X_audio_val, X_text_val], y_val))"
      ],
      "metadata": {
        "id": "_CMn0nM7X9OP"
      },
      "execution_count": null,
      "outputs": []
    },
    {
      "cell_type": "code",
      "source": [
        "print(hist.history.keys())\n",
        "\n",
        "plt.plot(hist.history['accuracy'])\n",
        "plt.plot(hist.history['val_accuracy'])\n",
        "plt.title('model accuracy')\n",
        "plt.ylabel('accuracy')\n",
        "plt.xlabel('epoch')\n",
        "plt.legend(['train', 'test'], loc='upper left')\n",
        "plt.show()\n",
        "\n",
        "plt.plot(hist.history['loss'])\n",
        "plt.plot(hist.history['val_loss'])\n",
        "plt.title('model loss')\n",
        "plt.ylabel('loss')\n",
        "plt.xlabel('epoch')\n",
        "plt.legend(['train', 'test'], loc='upper left')\n",
        "plt.show()"
      ],
      "metadata": {
        "colab": {
          "base_uri": "https://localhost:8080/",
          "height": 944
        },
        "id": "h9ypQABNC-Lv",
        "outputId": "4f3ef62d-ac7a-460f-b8fe-a07223c411d7"
      },
      "execution_count": null,
      "outputs": [
        {
          "output_type": "stream",
          "name": "stdout",
          "text": [
            "dict_keys(['accuracy', 'loss', 'val_accuracy', 'val_loss'])\n"
          ]
        },
        {
          "output_type": "display_data",
          "data": {
            "text/plain": [
              "<Figure size 640x480 with 1 Axes>"
            ],
            "image/png": "[encoded data removed]"
          },
          "metadata": {}
        },
        {
          "output_type": "display_data",
          "data": {
            "text/plain": [
              "<Figure size 640x480 with 1 Axes>"
            ],
            "image/png": "[encoded data removed]"
          },
          "metadata": {}
        }
      ]
    },
    {
      "cell_type": "code",
      "source": [
        "y_pred = early_model.predict([X_audio_val, X_text_val])\n",
        "y_pred_classes = (y_pred > 0.5).astype(\"int32\")\n",
        "\n",
        "conf_matrix = confusion_matrix(y_val, y_pred_classes)\n",
        "\n",
        "plt.figure(figsize=(8, 6))\n",
        "sns.heatmap(conf_matrix, annot=True, fmt='d', cmap='Blues', xticklabels=[0, 1], yticklabels=[0, 1])\n",
        "plt.ylabel('Actual')\n",
        "plt.xlabel('Predicted')\n",
        "plt.title('Confusion Matrix')\n",
        "plt.show()\n",
        "\n",
        "print(classification_report(y_val, y_pred_classes))"
      ],
      "metadata": {
        "colab": {
          "base_uri": "https://localhost:8080/",
          "height": 792
        },
        "id": "jiBEhSNzT6CV",
        "outputId": "f4bae33f-eceb-4b0d-bd46-93749cc69d20"
      },
      "execution_count": null,
      "outputs": [
        {
          "output_type": "stream",
          "name": "stdout",
          "text": [
            "\r\u001b[1m 1/10\u001b[0m \u001b[32m━━\u001b[0m\u001b[37m━━━━━━━━━━━━━━━━━━\u001b[0m \u001b[1m2s\u001b[0m 304ms/step"
          ]
        },
        {
          "output_type": "stream",
          "name": "stderr",
          "text": [
            "/usr/local/lib/python3.10/dist-packages/keras/src/ops/nn.py:545: UserWarning: You are using a softmax over axis 3 of a tensor of shape (32, 4, 1, 1). This axis has size 1. The softmax operation will always return the value 1, which is likely not what you intended. Did you mean to use a sigmoid instead?\n",
            "  warnings.warn(\n"
          ]
        },
        {
          "output_type": "stream",
          "name": "stdout",
          "text": [
            "\u001b[1m10/10\u001b[0m \u001b[32m━━━━━━━━━━━━━━━━━━━━\u001b[0m\u001b[37m\u001b[0m \u001b[1m1s\u001b[0m 38ms/step\n"
          ]
        },
        {
          "output_type": "display_data",
          "data": {
            "text/plain": [
              "<Figure size 800x600 with 2 Axes>"
            ],
            "image/png": "[encoded data removed]"
          },
          "metadata": {}
        },
        {
          "output_type": "stream",
          "name": "stdout",
          "text": [
            "              precision    recall  f1-score   support\n",
            "\n",
            "           0       0.94      0.93      0.94       148\n",
            "           1       0.93      0.94      0.93       144\n",
            "\n",
            "    accuracy                           0.93       292\n",
            "   macro avg       0.93      0.93      0.93       292\n",
            "weighted avg       0.93      0.93      0.93       292\n",
            "\n"
          ]
        }
      ]
    },
    {
      "cell_type": "markdown",
      "source": [
        "## Модель пізнього злиття"
      ],
      "metadata": {
        "id": "WQ3_kvkUAlDF"
      }
    },
    {
      "cell_type": "code",
      "source": [
        "class SelfAttention(tf.keras.layers.Layer):\n",
        "    def __init__(self, embed_dim, num_heads):\n",
        "        super(SelfAttention, self).__init__()\n",
        "        self.multi_head_attention = MultiHeadAttention(num_heads=num_heads, key_dim=embed_dim)\n",
        "        self.layernorm = LayerNormalization(epsilon=1e-6)\n",
        "        self.dropout = Dropout(0.3)\n",
        "\n",
        "    def call(self, inputs):\n",
        "        attn_output = self.multi_head_attention(inputs, inputs)\n",
        "        attn_output = self.dropout(attn_output)\n",
        "        return self.layernorm(inputs + attn_output)\n",
        "\n",
        "# Аудіо модель\n",
        "def create_audio_model(input_shape):\n",
        "    inputs = Input(shape=input_shape)\n",
        "    # Перший шар CNN\n",
        "    x = Conv1D(filters=128, kernel_size=3, activation='relu', padding='same')(inputs)\n",
        "    x = BatchNormalization()(x)\n",
        "    x = Dropout(0.3)(x)\n",
        "\n",
        "    # Другий шар CNN\n",
        "    x = Conv1D(filters=64, kernel_size=3, activation='relu', padding='same')(x)\n",
        "    x = BatchNormalization()(x)\n",
        "    x = Dropout(0.3)(x)\n",
        "\n",
        "    # Bi-LSTM шар\n",
        "    x = Bidirectional(LSTM(128, return_sequences=False))(x)\n",
        "    x = Dropout(0.3)(x)\n",
        "\n",
        "    outputs = Dense(64, activation='relu')(x)\n",
        "\n",
        "    model = Model(inputs=inputs, outputs=outputs)\n",
        "    return model\n",
        "\n",
        "# Текстова модель\n",
        "def create_text_model(input_shape):\n",
        "    inputs = Input(shape=input_shape)\n",
        "\n",
        "    # Bi-LSTM шар\n",
        "    x = Bidirectional(LSTM(64, return_sequences=True))(inputs)\n",
        "\n",
        "    # Додавання механізму самоуваги\n",
        "    x = SelfAttention(embed_dim=64, num_heads=4)(x)\n",
        "    x = GlobalAveragePooling1D()(x)\n",
        "    x = Dense(64, activation='relu')(x)\n",
        "\n",
        "    outputs = Dense(64, activation='relu')(x)\n",
        "\n",
        "    model = Model(inputs=inputs, outputs=outputs)\n",
        "    return model\n",
        "\n",
        "# Створення моделі з пізнім ф'южном\n",
        "def create_late_fusion_model(audio_input_shape, text_input_shape):\n",
        "    audio_model = create_audio_model(audio_input_shape)\n",
        "    text_model = create_text_model(text_input_shape)\n",
        "\n",
        "    audio_input = Input(shape=audio_input_shape)\n",
        "    text_input = Input(shape=text_input_shape)\n",
        "\n",
        "    audio_features = audio_model(audio_input)\n",
        "    text_features = text_model(text_input)\n",
        "\n",
        "    # Пізнє об'єднання ознак\n",
        "    combined_features = Concatenate()([audio_features, text_features])\n",
        "\n",
        "    x = Dense(128, activation='relu')(combined_features)\n",
        "    x = Dropout(0.5)(x)\n",
        "    output = Dense(1, activation='sigmoid')(x)\n",
        "\n",
        "    model = Model(inputs=[audio_input, text_input], outputs=output)\n",
        "    return model\n",
        "\n",
        "audio_input_shape = (None, 100)\n",
        "text_input_shape = (None, 3000)\n",
        "\n",
        "late_model = create_late_fusion_model(audio_input_shape, text_input_shape)\n",
        "\n",
        "learning_rate = 0.01\n",
        "optimizer = Adam(learning_rate=learning_rate)\n",
        "\n",
        "late_model.compile(optimizer=optimizer, loss='binary_crossentropy', metrics=['accuracy'])\n",
        "late_model.summary()\n"
      ],
      "metadata": {
        "colab": {
          "base_uri": "https://localhost:8080/",
          "height": 433
        },
        "id": "EGxyyLckq-1n",
        "outputId": "b521fe75-5068-47b7-e47a-12faa666cfa5"
      },
      "execution_count": null,
      "outputs": [
        {
          "output_type": "display_data",
          "data": {
            "text/plain": [
              "\u001b[1mModel: \"functional_6\"\u001b[0m\n"
            ],
            "text/html": [
              "<pre style=\"white-space:pre;overflow-x:auto;line-height:normal;font-family:Menlo,'DejaVu Sans Mono',consolas,'Courier New',monospace\"><span style=\"font-weight: bold\">Model: \"functional_6\"</span>\n",
              "</pre>\n"
            ]
          },
          "metadata": {}
        },
        {
          "output_type": "display_data",
          "data": {
            "text/plain": [
              "┏━━━━━━━━━━━━━━━━━━━━━━━━━━━┳━━━━━━━━━━━━━━━━━━━━━━━━┳━━━━━━━━━━━━━━━━┳━━━━━━━━━━━━━━━━━━━━━━━━┓\n",
              "┃\u001b[1m \u001b[0m\u001b[1mLayer (type)             \u001b[0m\u001b[1m \u001b[0m┃\u001b[1m \u001b[0m\u001b[1mOutput Shape          \u001b[0m\u001b[1m \u001b[0m┃\u001b[1m \u001b[0m\u001b[1m       Param #\u001b[0m\u001b[1m \u001b[0m┃\u001b[1m \u001b[0m\u001b[1mConnected to          \u001b[0m\u001b[1m \u001b[0m┃\n",
              "┡━━━━━━━━━━━━━━━━━━━━━━━━━━━╇━━━━━━━━━━━━━━━━━━━━━━━━╇━━━━━━━━━━━━━━━━╇━━━━━━━━━━━━━━━━━━━━━━━━┩\n",
              "│ input_layer_8             │ (\u001b[38;5;45mNone\u001b[0m, \u001b[38;5;45mNone\u001b[0m, \u001b[38;5;34m100\u001b[0m)      │              \u001b[38;5;34m0\u001b[0m │ -                      │\n",
              "│ (\u001b[38;5;33mInputLayer\u001b[0m)              │                        │                │                        │\n",
              "├───────────────────────────┼────────────────────────┼────────────────┼────────────────────────┤\n",
              "│ input_layer_9             │ (\u001b[38;5;45mNone\u001b[0m, \u001b[38;5;45mNone\u001b[0m, \u001b[38;5;34m3000\u001b[0m)     │              \u001b[38;5;34m0\u001b[0m │ -                      │\n",
              "│ (\u001b[38;5;33mInputLayer\u001b[0m)              │                        │                │                        │\n",
              "├───────────────────────────┼────────────────────────┼────────────────┼────────────────────────┤\n",
              "│ functional_4 (\u001b[38;5;33mFunctional\u001b[0m) │ (\u001b[38;5;45mNone\u001b[0m, \u001b[38;5;34m64\u001b[0m)             │        \u001b[38;5;34m278,016\u001b[0m │ input_layer_8[\u001b[38;5;34m0\u001b[0m][\u001b[38;5;34m0\u001b[0m]    │\n",
              "├───────────────────────────┼────────────────────────┼────────────────┼────────────────────────┤\n",
              "│ functional_5 (\u001b[38;5;33mFunctional\u001b[0m) │ (\u001b[38;5;45mNone\u001b[0m, \u001b[38;5;34m64\u001b[0m)             │      \u001b[38;5;34m1,713,920\u001b[0m │ input_layer_9[\u001b[38;5;34m0\u001b[0m][\u001b[38;5;34m0\u001b[0m]    │\n",
              "├───────────────────────────┼────────────────────────┼────────────────┼────────────────────────┤\n",
              "│ concatenate_1             │ (\u001b[38;5;45mNone\u001b[0m, \u001b[38;5;34m128\u001b[0m)            │              \u001b[38;5;34m0\u001b[0m │ functional_4[\u001b[38;5;34m0\u001b[0m][\u001b[38;5;34m0\u001b[0m],    │\n",
              "│ (\u001b[38;5;33mConcatenate\u001b[0m)             │                        │                │ functional_5[\u001b[38;5;34m0\u001b[0m][\u001b[38;5;34m0\u001b[0m]     │\n",
              "├───────────────────────────┼────────────────────────┼────────────────┼────────────────────────┤\n",
              "│ dense_9 (\u001b[38;5;33mDense\u001b[0m)           │ (\u001b[38;5;45mNone\u001b[0m, \u001b[38;5;34m128\u001b[0m)            │         \u001b[38;5;34m16,512\u001b[0m │ concatenate_1[\u001b[38;5;34m0\u001b[0m][\u001b[38;5;34m0\u001b[0m]    │\n",
              "├───────────────────────────┼────────────────────────┼────────────────┼────────────────────────┤\n",
              "│ dropout_14 (\u001b[38;5;33mDropout\u001b[0m)      │ (\u001b[38;5;45mNone\u001b[0m, \u001b[38;5;34m128\u001b[0m)            │              \u001b[38;5;34m0\u001b[0m │ dense_9[\u001b[38;5;34m0\u001b[0m][\u001b[38;5;34m0\u001b[0m]          │\n",
              "├───────────────────────────┼────────────────────────┼────────────────┼────────────────────────┤\n",
              "│ dense_10 (\u001b[38;5;33mDense\u001b[0m)          │ (\u001b[38;5;45mNone\u001b[0m, \u001b[38;5;34m1\u001b[0m)              │            \u001b[38;5;34m129\u001b[0m │ dropout_14[\u001b[38;5;34m0\u001b[0m][\u001b[38;5;34m0\u001b[0m]       │\n",
              "└───────────────────────────┴────────────────────────┴────────────────┴────────────────────────┘\n"
            ],
            "text/html": [
              "<pre style=\"white-space:pre;overflow-x:auto;line-height:normal;font-family:Menlo,'DejaVu Sans Mono',consolas,'Courier New',monospace\">┏━━━━━━━━━━━━━━━━━━━━━━━━━━━┳━━━━━━━━━━━━━━━━━━━━━━━━┳━━━━━━━━━━━━━━━━┳━━━━━━━━━━━━━━━━━━━━━━━━┓\n",
              "┃<span style=\"font-weight: bold\"> Layer (type)              </span>┃<span style=\"font-weight: bold\"> Output Shape           </span>┃<span style=\"font-weight: bold\">        Param # </span>┃<span style=\"font-weight: bold\"> Connected to           </span>┃\n",
              "┡━━━━━━━━━━━━━━━━━━━━━━━━━━━╇━━━━━━━━━━━━━━━━━━━━━━━━╇━━━━━━━━━━━━━━━━╇━━━━━━━━━━━━━━━━━━━━━━━━┩\n",
              "│ input_layer_8             │ (<span style=\"color: #00d7ff; text-decoration-color: #00d7ff\">None</span>, <span style=\"color: #00d7ff; text-decoration-color: #00d7ff\">None</span>, <span style=\"color: #00af00; text-decoration-color: #00af00\">100</span>)      │              <span style=\"color: #00af00; text-decoration-color: #00af00\">0</span> │ -                      │\n",
              "│ (<span style=\"color: #0087ff; text-decoration-color: #0087ff\">InputLayer</span>)              │                        │                │                        │\n",
              "├───────────────────────────┼────────────────────────┼────────────────┼────────────────────────┤\n",
              "│ input_layer_9             │ (<span style=\"color: #00d7ff; text-decoration-color: #00d7ff\">None</span>, <span style=\"color: #00d7ff; text-decoration-color: #00d7ff\">None</span>, <span style=\"color: #00af00; text-decoration-color: #00af00\">3000</span>)     │              <span style=\"color: #00af00; text-decoration-color: #00af00\">0</span> │ -                      │\n",
              "│ (<span style=\"color: #0087ff; text-decoration-color: #0087ff\">InputLayer</span>)              │                        │                │                        │\n",
              "├───────────────────────────┼────────────────────────┼────────────────┼────────────────────────┤\n",
              "│ functional_4 (<span style=\"color: #0087ff; text-decoration-color: #0087ff\">Functional</span>) │ (<span style=\"color: #00d7ff; text-decoration-color: #00d7ff\">None</span>, <span style=\"color: #00af00; text-decoration-color: #00af00\">64</span>)             │        <span style=\"color: #00af00; text-decoration-color: #00af00\">278,016</span> │ input_layer_8[<span style=\"color: #00af00; text-decoration-color: #00af00\">0</span>][<span style=\"color: #00af00; text-decoration-color: #00af00\">0</span>]    │\n",
              "├───────────────────────────┼────────────────────────┼────────────────┼────────────────────────┤\n",
              "│ functional_5 (<span style=\"color: #0087ff; text-decoration-color: #0087ff\">Functional</span>) │ (<span style=\"color: #00d7ff; text-decoration-color: #00d7ff\">None</span>, <span style=\"color: #00af00; text-decoration-color: #00af00\">64</span>)             │      <span style=\"color: #00af00; text-decoration-color: #00af00\">1,713,920</span> │ input_layer_9[<span style=\"color: #00af00; text-decoration-color: #00af00\">0</span>][<span style=\"color: #00af00; text-decoration-color: #00af00\">0</span>]    │\n",
              "├───────────────────────────┼────────────────────────┼────────────────┼────────────────────────┤\n",
              "│ concatenate_1             │ (<span style=\"color: #00d7ff; text-decoration-color: #00d7ff\">None</span>, <span style=\"color: #00af00; text-decoration-color: #00af00\">128</span>)            │              <span style=\"color: #00af00; text-decoration-color: #00af00\">0</span> │ functional_4[<span style=\"color: #00af00; text-decoration-color: #00af00\">0</span>][<span style=\"color: #00af00; text-decoration-color: #00af00\">0</span>],    │\n",
              "│ (<span style=\"color: #0087ff; text-decoration-color: #0087ff\">Concatenate</span>)             │                        │                │ functional_5[<span style=\"color: #00af00; text-decoration-color: #00af00\">0</span>][<span style=\"color: #00af00; text-decoration-color: #00af00\">0</span>]     │\n",
              "├───────────────────────────┼────────────────────────┼────────────────┼────────────────────────┤\n",
              "│ dense_9 (<span style=\"color: #0087ff; text-decoration-color: #0087ff\">Dense</span>)           │ (<span style=\"color: #00d7ff; text-decoration-color: #00d7ff\">None</span>, <span style=\"color: #00af00; text-decoration-color: #00af00\">128</span>)            │         <span style=\"color: #00af00; text-decoration-color: #00af00\">16,512</span> │ concatenate_1[<span style=\"color: #00af00; text-decoration-color: #00af00\">0</span>][<span style=\"color: #00af00; text-decoration-color: #00af00\">0</span>]    │\n",
              "├───────────────────────────┼────────────────────────┼────────────────┼────────────────────────┤\n",
              "│ dropout_14 (<span style=\"color: #0087ff; text-decoration-color: #0087ff\">Dropout</span>)      │ (<span style=\"color: #00d7ff; text-decoration-color: #00d7ff\">None</span>, <span style=\"color: #00af00; text-decoration-color: #00af00\">128</span>)            │              <span style=\"color: #00af00; text-decoration-color: #00af00\">0</span> │ dense_9[<span style=\"color: #00af00; text-decoration-color: #00af00\">0</span>][<span style=\"color: #00af00; text-decoration-color: #00af00\">0</span>]          │\n",
              "├───────────────────────────┼────────────────────────┼────────────────┼────────────────────────┤\n",
              "│ dense_10 (<span style=\"color: #0087ff; text-decoration-color: #0087ff\">Dense</span>)          │ (<span style=\"color: #00d7ff; text-decoration-color: #00d7ff\">None</span>, <span style=\"color: #00af00; text-decoration-color: #00af00\">1</span>)              │            <span style=\"color: #00af00; text-decoration-color: #00af00\">129</span> │ dropout_14[<span style=\"color: #00af00; text-decoration-color: #00af00\">0</span>][<span style=\"color: #00af00; text-decoration-color: #00af00\">0</span>]       │\n",
              "└───────────────────────────┴────────────────────────┴────────────────┴────────────────────────┘\n",
              "</pre>\n"
            ]
          },
          "metadata": {}
        },
        {
          "output_type": "display_data",
          "data": {
            "text/plain": [
              "\u001b[1m Total params: \u001b[0m\u001b[38;5;34m2,008,577\u001b[0m (7.66 MB)\n"
            ],
            "text/html": [
              "<pre style=\"white-space:pre;overflow-x:auto;line-height:normal;font-family:Menlo,'DejaVu Sans Mono',consolas,'Courier New',monospace\"><span style=\"font-weight: bold\"> Total params: </span><span style=\"color: #00af00; text-decoration-color: #00af00\">2,008,577</span> (7.66 MB)\n",
              "</pre>\n"
            ]
          },
          "metadata": {}
        },
        {
          "output_type": "display_data",
          "data": {
            "text/plain": [
              "\u001b[1m Trainable params: \u001b[0m\u001b[38;5;34m2,008,193\u001b[0m (7.66 MB)\n"
            ],
            "text/html": [
              "<pre style=\"white-space:pre;overflow-x:auto;line-height:normal;font-family:Menlo,'DejaVu Sans Mono',consolas,'Courier New',monospace\"><span style=\"font-weight: bold\"> Trainable params: </span><span style=\"color: #00af00; text-decoration-color: #00af00\">2,008,193</span> (7.66 MB)\n",
              "</pre>\n"
            ]
          },
          "metadata": {}
        },
        {
          "output_type": "display_data",
          "data": {
            "text/plain": [
              "\u001b[1m Non-trainable params: \u001b[0m\u001b[38;5;34m384\u001b[0m (1.50 KB)\n"
            ],
            "text/html": [
              "<pre style=\"white-space:pre;overflow-x:auto;line-height:normal;font-family:Menlo,'DejaVu Sans Mono',consolas,'Courier New',monospace\"><span style=\"font-weight: bold\"> Non-trainable params: </span><span style=\"color: #00af00; text-decoration-color: #00af00\">384</span> (1.50 KB)\n",
              "</pre>\n"
            ]
          },
          "metadata": {}
        }
      ]
    },
    {
      "cell_type": "code",
      "source": [
        "X_audio_train = np.expand_dims(X_audio_train, axis=1)\n",
        "X_audio_val = np.expand_dims(X_audio_val, axis=1)\n",
        "X_text_train = np.expand_dims(X_text_train, axis=-1)\n",
        "X_text_val = np.expand_dims(X_text_val, axis=1)"
      ],
      "metadata": {
        "id": "_rl-E1lv74-7"
      },
      "execution_count": null,
      "outputs": []
    },
    {
      "cell_type": "code",
      "source": [
        "history = late_model.fit([X_audio_train, X_text_train], y_train, epochs=50, batch_size=16, validation_data=([X_audio_val, X_text_val], y_val))"
      ],
      "metadata": {
        "id": "_GuywKr_tvG5"
      },
      "execution_count": null,
      "outputs": []
    },
    {
      "cell_type": "code",
      "source": [
        "print(history.history.keys())\n",
        "# summarize history for accuracy\n",
        "plt.plot(history.history['accuracy'])\n",
        "plt.plot(history.history['val_accuracy'])\n",
        "plt.title('model accuracy')\n",
        "plt.ylabel('accuracy')\n",
        "plt.xlabel('epoch')\n",
        "plt.legend(['train', 'test'], loc='upper left')\n",
        "plt.show()\n",
        "# summarize history for loss\n",
        "plt.plot(history.history['loss'])\n",
        "plt.plot(history.history['val_loss'])\n",
        "plt.title('model loss')\n",
        "plt.ylabel('loss')\n",
        "plt.xlabel('epoch')\n",
        "plt.legend(['train', 'test'], loc='upper left')\n",
        "plt.show()"
      ],
      "metadata": {
        "colab": {
          "base_uri": "https://localhost:8080/",
          "height": 944
        },
        "id": "wgu4SYi-NDKN",
        "outputId": "418a2dbe-13c9-4f76-f5bf-f6d0239f188b"
      },
      "execution_count": null,
      "outputs": [
        {
          "output_type": "stream",
          "name": "stdout",
          "text": [
            "dict_keys(['accuracy', 'loss', 'val_accuracy', 'val_loss'])\n"
          ]
        },
        {
          "output_type": "display_data",
          "data": {
            "text/plain": [
              "<Figure size 640x480 with 1 Axes>"
            ],
            "image/png": "[encoded data removed]"
          },
          "metadata": {}
        },
        {
          "output_type": "display_data",
          "data": {
            "text/plain": [
              "<Figure size 640x480 with 1 Axes>"
            ],
            "image/png": "[encoded data removed]"
          },
          "metadata": {}
        }
      ]
    },
    {
      "cell_type": "code",
      "source": [
        "report = classification_report(true_labels, predicted_labels, target_names=['Class 0', 'Class 1'])\n",
        "print(\"\\nClassification Report:\")\n",
        "print(report)\n",
        "X_audio_test1 = np.expand_dims(X_audio_test, axis=1)\n",
        "X_text_test1 = np.expand_dims(X_text_test, axis=-1)\n",
        "y_pred = late_model.predict([X_audio_test1, X_text_test1], batch_size=16)\n",
        "y_pred_classes = (y_pred > 0.5).astype(\"int32\")\n",
        "\n",
        "print(\"Confusion Matrix:\")\n",
        "conf_matrix = confusion_matrix(y_val, y_pred_classes)\n",
        "\n",
        "plt.figure(figsize=(8, 6))\n",
        "sns.heatmap(conf_matrix, annot=True, fmt='d', cmap='Blues', xticklabels=[0, 1], yticklabels=[0, 1])\n",
        "plt.ylabel('Actual')\n",
        "plt.xlabel('Predicted')\n",
        "plt.title('Confusion Matrix')\n",
        "plt.show()\n",
        "print(\"\\nClassification Report:\")\n",
        "print(classification_report(y_val, y_pred_classes, target_names=['Class 0', 'Class 1']))"
      ],
      "metadata": {
        "colab": {
          "base_uri": "https://localhost:8080/",
          "height": 783
        },
        "id": "PjtSX5OKwogz",
        "outputId": "bf0ccb89-b556-4fe3-fcbd-971cf1908f44"
      },
      "execution_count": null,
      "outputs": [
        {
          "output_type": "stream",
          "name": "stdout",
          "text": [
            "Confusion Matrix:\n"
          ]
        },
        {
          "output_type": "display_data",
          "data": {
            "text/plain": [
              "<Figure size 800x600 with 2 Axes>"
            ],
            "image/png": "[encoded data removed]"
          },
          "metadata": {}
        },
        {
          "output_type": "stream",
          "name": "stdout",
          "text": [
            "\n",
            "Classification Report:\n",
            "              precision    recall  f1-score   support\n",
            "\n",
            "     Class 0       0.83      0.88      0.86       148\n",
            "     Class 1       0.87      0.82      0.84       144\n",
            "\n",
            "    accuracy                           0.85       292\n",
            "   macro avg       0.85      0.85      0.85       292\n",
            "weighted avg       0.85      0.85      0.85       292\n",
            "\n"
          ]
        }
      ]
    },
    {
      "cell_type": "markdown",
      "source": [
        "## Тестування кращої моделі (модель раннього злиття)"
      ],
      "metadata": {
        "id": "044rpufaApEM"
      }
    },
    {
      "cell_type": "code",
      "source": [
        "def aggregate_predictions(patient_ids, y_pred_segment_probs):\n",
        "\n",
        "    predictions_df = pd.DataFrame({'patient_id': patient_ids, 'predicted_prob': y_pred_segment_probs})\n",
        "    aggregated_predictions = predictions_df.groupby('patient_id')['predicted_prob'].mean()\n",
        "\n",
        "    return aggregated_predictions\n",
        "\n",
        "# Функція для оцінки моделі\n",
        "def evaluate_model(model, X_test, y_test, patient_ids_test):\n",
        "\n",
        "    y_pred_segment_probs = model.predict(X_test, batch_size=8).flatten()\n",
        "    aggregated_predictions_probs = aggregate_predictions(patient_ids_test, y_pred_segment_probs)\n",
        "    aggregated_predictions_classes = (aggregated_predictions_probs > 0.5).astype(int)\n",
        "\n",
        "    # Реальні мітки на рівні пацієнта\n",
        "    y_test_patient = pd.Series(y_test).groupby(patient_ids_test).first()\n",
        "\n",
        "    # Оцінка моделі\n",
        "    accuracy = accuracy_score(y_test_patient, aggregated_predictions_classes)\n",
        "    conf_matrix = confusion_matrix(y_test_patient, aggregated_predictions_classes)\n",
        "    report = classification_report(y_test_patient, aggregated_predictions_classes)\n",
        "\n",
        "    print(f'Accuracy: {accuracy}')\n",
        "    print('Confusion Matrix:')\n",
        "    print(conf_matrix)\n",
        "    plt.figure(figsize=(8, 6))\n",
        "    sns.heatmap(conf_matrix, annot=True, fmt='d', cmap='Blues', xticklabels=[0, 1], yticklabels=[0, 1])\n",
        "    plt.ylabel('Actual')\n",
        "    plt.xlabel('Predicted')\n",
        "    plt.title('Confusion Matrix')\n",
        "    plt.show()\n",
        "    print('Classification Report:')\n",
        "    print(report)\n",
        "\n",
        "# Прогнозування та оцінка моделі\n",
        "evaluate_model(early_model, [X_audio_test, X_text_test], test_labels, patient_ids_test)"
      ],
      "metadata": {
        "colab": {
          "base_uri": "https://localhost:8080/",
          "height": 838
        },
        "id": "tzLiEJCWvgQ-",
        "outputId": "daa8c7f4-2ecd-4ca0-883a-64883ce8c109"
      },
      "execution_count": null,
      "outputs": [
        {
          "output_type": "stream",
          "name": "stdout",
          "text": [
            "\u001b[1m43/43\u001b[0m \u001b[32m━━━━━━━━━━━━━━━━━━━━\u001b[0m\u001b[37m\u001b[0m \u001b[1m17s\u001b[0m 410ms/step\n",
            "Accuracy: 0.8604651162790697\n",
            "Confusion Matrix:\n",
            "[[26  4]\n",
            " [ 2 11]]\n"
          ]
        },
        {
          "output_type": "display_data",
          "data": {
            "text/plain": [
              "<Figure size 800x600 with 2 Axes>"
            ],
            "image/png": "[encoded data removed]"
          },
          "metadata": {}
        },
        {
          "output_type": "stream",
          "name": "stdout",
          "text": [
            "Classification Report:\n",
            "              precision    recall  f1-score   support\n",
            "\n",
            "           0       0.93      0.87      0.90        30\n",
            "           1       0.73      0.85      0.79        13\n",
            "\n",
            "    accuracy                           0.86        43\n",
            "   macro avg       0.83      0.86      0.84        43\n",
            "weighted avg       0.87      0.86      0.86        43\n",
            "\n"
          ]
        }
      ]
    },
    {
      "cell_type": "code",
      "source": [
        "early_model.save('early_model.keras')"
      ],
      "metadata": {
        "id": "csToyafm-igW"
      },
      "execution_count": null,
      "outputs": []
    }
  ]
}